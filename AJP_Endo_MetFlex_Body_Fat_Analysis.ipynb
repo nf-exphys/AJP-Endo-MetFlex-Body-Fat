{
  "cells": [
    {
      "cell_type": "markdown",
      "metadata": {
        "id": "view-in-github",
        "colab_type": "text"
      },
      "source": [
        "<a href=\"https://colab.research.google.com/github/nf-exphys/AJP-Endo-MetFlex-Body-Fat/blob/main/AJP_Endo_MetFlex_Body_Fat_Analysis.ipynb\" target=\"_parent\"><img src=\"https://colab.research.google.com/assets/colab-badge.svg\" alt=\"Open In Colab\"/></a>"
      ]
    },
    {
      "cell_type": "markdown",
      "metadata": {
        "id": "mNNBepEatpCT"
      },
      "source": [
        "# Analysis for Postprandial MetFlex Paper\n",
        "The code in this script should produce all plots and tables needed for the analyses in our paper \"*Increased Postprandial Metabolic Flexibility is Associated with Higher Body Fat Percentages in Healthy Young Adults*\". To run the whole script on your own, you must do two things:\n",
        "\n",
        "\n",
        "1.   Download the analysis.zip folder from the GitHub here (link to be added soon).\n",
        "2.   Click the folder icon to the left (underneath the key icon).\n",
        "3.   Click the icon of a page with the corner folded over (labeled \"Upload to session storage\"). In the pop-up window, navigate to wherever you've saved the analysis.zip folder on your computer and select it for upload.\n",
        "4. Click \"Run All\" above.\n",
        "\n",
        "Unfortunately, this first step takes about 15 minutes, because it takes a long time to load the libraries. Everything after that is relatively quick (<1 min)."
      ]
    },
    {
      "cell_type": "markdown",
      "metadata": {
        "id": "lcmMZ8Utzcro"
      },
      "source": [
        "# Load Libraries and Functions"
      ]
    },
    {
      "cell_type": "code",
      "execution_count": null,
      "metadata": {
        "colab": {
          "base_uri": "https://localhost:8080/",
          "height": 31
        },
        "collapsed": true,
        "id": "eStjeX48LH8h",
        "outputId": "3bbd06a5-56b7-4571-b9b8-a35ae0f410b8"
      },
      "outputs": [
        {
          "output_type": "display_data",
          "data": {
            "text/html": [
              "<ol>\n",
              "</ol>\n"
            ],
            "text/markdown": "\n\n",
            "text/latex": "\\begin{enumerate}\n\\end{enumerate}\n",
            "text/plain": [
              "list()"
            ]
          },
          "metadata": {}
        }
      ],
      "source": [
        "#these are the packages needed to run the script\n",
        "  #unfortunately, running this cell takes ~15 minutes\n",
        "\n",
        "packages <- c(\"tidyverse\", \"lmerTest\", \"tidyverse\",\n",
        "              \"emmeans\", \"papaja\", \"gtsummary\", \"gt\",\n",
        "              \"googledrive\", \"janitor\", \"tableone\",\n",
        "              \"Hmisc\", \"labelled\",\n",
        "              \"pbkrtest\", \"plyr\",\n",
        "              \"IRdisplay\",\n",
        "              \"parameters\",\n",
        "              \"writexl\",\n",
        "              \"ggprism\",\n",
        "              \"broom.helpers\",\n",
        "              \"broom.mixed\",\n",
        "              \"extrafont\")\n",
        "\n",
        "#Compares the installed packages to the ones needed\n",
        "  #this comparison is important to avoid unnecessarily re-installing packages\n",
        "pkg_installed <- as.data.frame(installed.packages())\n",
        "pkg_needed <- packages[!(packages %in% pkg_installed$Package)]\n",
        "\n",
        "#installs needed packages\n",
        "if(!requireNamespace(any(pkg_needed), quietly = T)){\n",
        "lapply(pkg_needed, install.packages)\n",
        "}\n",
        "\n",
        "library(tidyverse); library(lmerTest); library(emmeans); library(papaja)\n",
        "library(gtsummary); library(gt); library(googledrive); library(janitor)\n",
        "library(extrafont)"
      ]
    },
    {
      "cell_type": "code",
      "execution_count": null,
      "metadata": {
        "id": "JV6kPKy6KAsC"
      },
      "outputs": [],
      "source": [
        "#unzip the analysis folder\n",
        "if (file.exists(\"./analysis.zip\")) {\n",
        "unzip(\"./analysis.zip\", exdir = \"./analysis\")\n",
        "} else{\n",
        "  stop(\"You need to upload the analysis.zip folder. Scroll up and try again.\")\n",
        "}\n"
      ]
    },
    {
      "cell_type": "code",
      "execution_count": 14,
      "metadata": {
        "id": "Tqcz9BUiWYDf"
      },
      "outputs": [],
      "source": [
        "#for now, click the folder icon and upload a folder with data files. Make sure the folder is called analysis\n",
        "analysis <- read_csv(\"./analysis/postprandial_analysis.csv\", show_col_types = F) %>%\n",
        "  mutate(id = as.factor(id),sex = as.factor(sex))\n",
        "\n",
        "labelled::var_label(analysis) <- list(\n",
        "  rer_0 = \"Fasting Measure\",\n",
        "  cho_0 = \"Fasting Measure\",\n",
        "  fat_0 = \"Fasting Measure\",\n",
        "  nefa_0 = \"Fasting Measure\",\n",
        "  insulin_0 = \"Fasting Measure\",\n",
        "  glucose_0 = \"Fasting Measure\",\n",
        "  time = \"Time\",\n",
        "  percent_fat = \"BF%\",\n",
        "  fat_mass = \"Fat Mass\",\n",
        "  ffm = \"Fat-free Mass\",\n",
        "  vat_vol_trfm = \"VAT volume^(1/3)\",\n",
        "  sex = \"Sex (Male)\", #female is reference level\n",
        "  age_yrs = \"Age\",\n",
        "  bmi = \"BMI\",\n",
        "  adip_ir_ogtt = \"AdipIR (OGTT)\",\n",
        "  matsuda = \"Matsuda\"\n",
        ")\n",
        "\n",
        "#read in supporting ancillary data\n",
        "other_data <- read_csv(\"./analysis/other_data.csv\", show_col_types = F)\n",
        "\n",
        "#read in data on transformation using mean/SD\n",
        "mean_sds <- read_csv(\"./analysis/analytic_sample_mean_sd.csv\", show_col_types = F) %>%\n",
        "  rename(mean = ref_means,\n",
        "         sd = ref_sd)\n"
      ]
    },
    {
      "cell_type": "code",
      "execution_count": 15,
      "metadata": {
        "id": "wY-axBsYVDS1"
      },
      "outputs": [],
      "source": [
        "#Create functions\n",
        "decide_interaction <- function(model_obj){\n",
        "\n",
        "  #in this model, all that matters is the interaction terms\n",
        "  pval_int <- summary(model_obj)[\"coefficients\"] %>%\n",
        "    data.frame() %>%\n",
        "    rownames_to_column(., \"term\") %>%\n",
        "    filter(grepl(\":\", term)) %>%\n",
        "    select(contains(\"p\")) %>%\n",
        "    pull()\n",
        "\n",
        "  #if one of the interactions is significant, return the model\n",
        "  if(any(pval_int < 0.05)){\n",
        "    print(\"Significant interaction. Returning model for plotting\")\n",
        "    return(list(pval_int = pval_int, mod = model_obj))\n",
        "\n",
        "  } else{\n",
        "\n",
        "    #remove interaction\n",
        "    final_form <- str_replace_all(\n",
        "      as.character(formula(model_obj))[3], #covars from first model\n",
        "      \"\\\\*\", \"+\") %>%\n",
        "      paste(as.character(formula(model_obj))[2], #outcome var from first model\n",
        "            \"~\",\n",
        "            .,\n",
        "            collapse = \"\") %>%\n",
        "      as.formula(.)\n",
        "\n",
        "    #fit model\n",
        "    final_model <- lmer(final_form, data = analysis)\n",
        "    print(\"No interaction. Returning reduced model\")\n",
        "    return(list(pval_int = pval_int, mod = final_model, quad_mod = model_obj))\n",
        "\n",
        "  }\n",
        "}\n",
        "\n",
        "#make function to get mean and SD for AUC data\n",
        "m_sd <- function(x){\n",
        "  #col mean\n",
        "  m <- mean(x, na.rm = T)\n",
        "\n",
        "  if(m > 1000){\n",
        "    n_round <- -1\n",
        "    m <- round(m, n_round)\n",
        "  } else{\n",
        "    n_round <- 1\n",
        "    m <- round(m, n_round)\n",
        "  }\n",
        "\n",
        "  s <- sd(x, na.rm = T)\n",
        "  if(s < 100){\n",
        "    s <- round(s, 1)\n",
        "  } else{\n",
        "    s <- round(s, 0)\n",
        "  }\n",
        "\n",
        "    return(paste0(m, \" ± \", s))\n",
        "    }\n",
        "\n",
        "#create function to compare between linear and quadratic models\n",
        "linear_quad_models <- function(adiposity, outcome, baseline, ffm = F, simple_covars = F){\n",
        "\n",
        "  linear <- paste(\"time * \", adiposity, collapse = \"\")\n",
        "  quad <- paste(\"I(time^2) * \", adiposity, \" + \", linear, collapse = \"\")\n",
        "\n",
        "  #reviewer interest in limiting number of covariates\n",
        "  if(simple_covars == T){\n",
        "    covars <- paste(\"+\", baseline, \"+\",\n",
        "    \"sex + matsuda + (1|id)\",\n",
        "    collapse = \"\")\n",
        "  } else{\n",
        "    covars <- paste(\"+\", baseline, \"+\",\n",
        "    \"sex + age_yrs + matsuda + adip_ir_ogtt + vat_vol_trfm + (1|id)\",\n",
        "    collapse = \"\")\n",
        "  }\n",
        "\n",
        "  #set ffm to True to add as an additional covariate\n",
        "  if(ffm == T){\n",
        "    covars <- paste(covars, \"+\", \"ffm\", collapse = \"\")\n",
        "  }\n",
        "\n",
        "  linear_form <- as.formula(paste(outcome, \" ~ \", linear, covars, collapse = \"\"))\n",
        "\n",
        "  quad_form <- as.formula(paste(outcome, \" ~ \", quad, covars, collapse = \"\"))\n",
        "\n",
        "  #fit linear model\n",
        "  linear_model <- lmer(linear_form, data = analysis)\n",
        "\n",
        "  #fit quadratic model\n",
        "  quad_model <- lmer(quad_form, data = analysis)\n",
        "\n",
        "  #Compare the two models and determine the best fit to the data\n",
        "  model_comp_res <- anova(linear_model, quad_model, test = \"LRT\") %>%\n",
        "    data.frame() %>%\n",
        "    rename(p_val = `Pr..Chisq.`)\n",
        "\n",
        "  comp_pval <- model_comp_res %>%\n",
        "    drop_na(p_val) %>%\n",
        "    pull(p_val)\n",
        "\n",
        "  comp_pval <- round(comp_pval, 3)\n",
        "\n",
        "  #quadratic is better than linear\n",
        "  if(comp_pval < 0.050){\n",
        "\n",
        "    print(paste0(\"Quadratic model selected, p = \", comp_pval))\n",
        "\n",
        "    return(list(p_comp = comp_pval,\n",
        "                mod = decide_interaction(quad_model),\n",
        "                comp_res = model_comp_res))\n",
        "  }\n",
        "\n",
        "  #linear is better than quadratic\n",
        "  if(comp_pval > 0.050){\n",
        "\n",
        "    print(paste0(\"Linear model selected, p = \", comp_pval))\n",
        "\n",
        "    return(list(p_comp = comp_pval,\n",
        "                mod = decide_interaction(linear_model),\n",
        "                comp_res = model_comp_res))\n",
        "  }\n",
        "\n",
        "\n",
        "\n",
        "}\n",
        "\n",
        "#takes dataframe from model comparison and assembles Chi-sq stats in APA format\n",
        "format_chisq_res <- function(comp_res, full_res = F){\n",
        "  # browser()\n",
        "  if(is.data.frame(comp_res)){\n",
        "    #drop NA to reduce down to one row for easier report\n",
        "    res <- drop_na(comp_res)\n",
        "\n",
        "    #if reporting full Chi-sq results\n",
        "    if(full_res){\n",
        "\n",
        "      #get full Chi-sq results\n",
        "      chisq_text <- paste0(\"(χ^2^(df=\", res$Df, \") = \", apa_num(res$Chisq), \",\")\n",
        "\n",
        "      if(res$p_val < 0.001){\n",
        "      chisq_text <- paste0(chisq_text, \"p \",\n",
        "                           apa_num(res$p_val, digits = 3, zero = F),\n",
        "                           \")\")\n",
        "    } else{\n",
        "       chisq_text <- paste0(chisq_text, \"p=\",\n",
        "                           apa_num(res$p_val, digits = 3, zero = F),\n",
        "                           \")\")\n",
        "    }\n",
        "    } else{\n",
        "\n",
        "      #return just the p-value (default)\n",
        "      if(res$p_val < 0.001){\n",
        "      chisq_text <- paste0(\"(p \",apa_num(res$p_val, digits = 3, zero = F),\")\")\n",
        "    } else{\n",
        "       chisq_text <- paste0(\"(p=\", apa_num(res$p_val, digits = 3, zero = F),\")\")\n",
        "    }\n",
        "    }\n",
        "\n",
        "\n",
        "    return(chisq_text)\n",
        "\n",
        "  }else{stop(\"Model comp must be passed as a dataframe\")}\n",
        "\n",
        "}\n",
        "\n",
        "#function to return only the pvalue from model results\n",
        "mod_p <- function(mod_res){\n",
        "  # browser()\n",
        "\n",
        "  #if pvalue is already formatted, just set p_val to <0.001\n",
        "  if(str_detect(mod_res, \"p < .001\")){\n",
        "    p_val <- \"p < 0.001\"\n",
        "  } else{\n",
        "    p <- str_extract(mod_res,\n",
        "                       regex(\"(?<=\\\\$p = )(\\\\.\\\\d{3,4})\")) %>%\n",
        "    as.numeric(.) %>%\n",
        "    format.pval(.)\n",
        "    p_val <- paste0(\"p = \", p)\n",
        "  }\n",
        "\n",
        "  return(p_val)\n",
        "}\n",
        "\n",
        "#calculates AUC using the trapezoidal rule\n",
        "  #for now, this may only work when used within summarize?\n",
        "trap_rule <- function(df = pick(everything()), var = \"var\", delta_t = 30){\n",
        "\n",
        "  #f(x0) + f(xn)\n",
        "  sum_0_120 <- sum(df[[var]][df$time == 0], df[[var]][df$time == 120])\n",
        "\n",
        "  #sum of f(x1) to f(xn-1), all times 2\n",
        "  sum_30_60_90 <- 2 * sum(df[[var]][df$time %in% c(30, 60, 90)])\n",
        "\n",
        "  # 1/2*delta_x * [f(x0) to f(xn)]\n",
        "  auc <- (sum_0_120 + sum_30_60_90)*(delta_t/2)\n",
        "\n",
        "  return(auc)\n",
        "}\n",
        "\n",
        "ogtt_change <- function(outcome_var){\n",
        "\n",
        "  my_formula <- as.formula(paste0(outcome_var, \" ~ factor(time) + (1|id)\"))\n",
        "  outcome_model <- lmer(my_formula, data = unstd_analysis)\n",
        "\n",
        "  emm <- emmeans::emmeans(outcome_model, \"time\")\n",
        "\n",
        "  #make outcome variable all caps for formatting\n",
        "  upper_var <- toupper(outcome_var)\n",
        "\n",
        "  #compare postprandial vs. baseline and return pval\n",
        "  p_vs_bsl <- emm %>%\n",
        "    emmeans::contrast(., 'trt.vs.ctrl', adjust = 'sidak') %>%\n",
        "    broom::tidy() %>%\n",
        "      #needs plyr::round_any because back converting time doesn't get to *exactly* 30,60,90,120\n",
        "    mutate(Time = plyr::round_any(as.numeric(str_extract(contrast, \"\\\\d{2,3}\")), accuracy = 30),\n",
        "           p_val = format.pval(adj.p.value, digits = 3, eps = 0.001),\n",
        "           #rounding pval when it's not <0.001, warns about NAs but works correctly?\n",
        "           p_val = suppressWarnings(case_when(grepl(\"<\", p_val) ~ p_val,\n",
        "           !grepl(\"<\", p_val) ~ as.character(round(as.numeric(p_val), 3))))\n",
        "           ) %>%\n",
        "    select(Time, p_val)\n",
        "\n",
        "  #set up results table\n",
        "  suppressWarnings(res_table <- ogtt_means %>%\n",
        "    select(time, matches(outcome_var)) %>%\n",
        "    rename(Time = time, !!sym(upper_var) := sym(outcome_var)) %>%\n",
        "    mutate(Time = plyr::round_any(as.numeric(Time), 30)) %>%\n",
        "    left_join(., p_vs_bsl, by = \"Time\") %>%\n",
        "    mutate(out = glue::glue(\"{.data[[upper_var]]} (p = {p_val})\")) %>%\n",
        "    mutate(out = str_remove(glue::glue(\"{out}\"), \"\\\\(p = NA\\\\)\"),\n",
        "           out = str_replace(glue::glue(\"{out}\"), \" = <\", \"<\")) %>%\n",
        "    select(out) %>%\n",
        "    rename(!!sym(upper_var) := out))\n",
        "\n",
        "  if(outcome_var %in% c(\"glucose\", \"insulin\")){\n",
        "    res_table <- res_table %>%\n",
        "      rename(!!sym(tools::toTitleCase(tolower(outcome_var))) := upper_var)\n",
        "  }\n",
        "\n",
        "  if(outcome_var == \"fat\"){\n",
        "    res_table <- res_table %>%\n",
        "      rename(FOX = FAT)\n",
        "  }\n",
        "\n",
        "  return(res_table)\n",
        "}"
      ]
    },
    {
      "cell_type": "markdown",
      "metadata": {
        "id": "NjmqG6cSz3Uy"
      },
      "source": [
        "# Create Table 1"
      ]
    },
    {
      "cell_type": "code",
      "execution_count": 16,
      "metadata": {
        "id": "a3vHVswZzw5h"
      },
      "outputs": [],
      "source": [
        "#Pull together data for Table 1\n",
        "t1_df <- analysis %>%\n",
        "  select(-time) %>%\n",
        "  group_by(id) %>%\n",
        "  #constant data is duplicated for each timepoint, and this de-duplicates it\n",
        "  slice_head(n = 1) %>%\n",
        "  mutate(id = as.numeric(as.character(id))) %>%\n",
        "  ungroup() %>%\n",
        "  left_join(., other_data, by = \"id\") %>%\n",
        "  #throws warnings about NAs, which is expected since original column is a character, not numeric\n",
        "  mutate(trig_rest = case_when(trig_rest == \"<50\" ~ 40, #impute <50 to 40\n",
        "                               trig_rest != \"<50\" ~\n",
        "                                 suppressWarnings(as.numeric(trig_rest))),\n",
        "         trig_rest = as.numeric(trig_rest),\n",
        "         sex = as.factor(ifelse(sex == \"F\", 1, 0))) %>%\n",
        "  relocate(id, trig_rest)\n",
        "\n",
        "std_vars <- mean_sds %>%\n",
        "  filter(var != \"time\") %>% #not relevant for table1\n",
        "  pull(var)\n",
        "\n",
        "t1_df_std <- t1_df %>%\n",
        "  select(id, all_of(std_vars)) %>%\n",
        "  mutate(id = as.character(id))\n",
        "\n",
        "t1_df_notStd <- t1_df %>%\n",
        "  select(!all_of(std_vars))\n",
        "\n",
        "#pull together data on means\n",
        "ref_means <- mean_sds %>%\n",
        "  select(var, mean) %>%\n",
        "  t()\n",
        "\n",
        "colnames(ref_means) <- ref_means[1,]\n",
        "ref_means <- ref_means[-1,]\n",
        "ref_means <- sapply(ref_means, as.numeric)\n",
        "\n",
        "#pull together data on SD\n",
        "ref_sd <- mean_sds %>%\n",
        "  select(var, sd) %>%\n",
        "  t()\n",
        "colnames(ref_sd) <- ref_sd[1,]\n",
        "ref_sd <- ref_sd[-1,]\n",
        "ref_sd <- sapply(ref_sd, as.numeric)\n",
        "\n",
        "#reverses the standardization so data is presented in typical units\n",
        "table_data <- t1_df_std %>%\n",
        "    mutate(across(where(is.numeric),\n",
        "                ~ (. * ref_sd[cur_column()]) + ref_means[cur_column()]\n",
        "                  ),\n",
        "           id = as.numeric(id)) %>%\n",
        "  left_join(., t1_df_notStd, by = \"id\") %>%\n",
        "  select(-contains(\"post_\")) %>%\n",
        "  mutate(bmi_class = as.factor(case_when(bmi > 18.5 & bmi < 25 ~ \"NW\",\n",
        "                               bmi >= 25 ~ \"OWOB\")),\n",
        "         insulin_0 = exp(insulin_0),\n",
        "         nefa_0 = exp(nefa_0),\n",
        "         vat_vol_trfm = (vat_vol_trfm^3))\n",
        "\n",
        "table_data$bmi_class <- factor(table_data$bmi_class, levels = c(\"NW\", \"OWOB\"))"
      ]
    },
    {
      "cell_type": "code",
      "execution_count": 17,
      "metadata": {
        "collapsed": true,
        "id": "VIhrk49Gg5KH"
      },
      "outputs": [],
      "source": [
        "#Create and Format Table One\n",
        "tab1 <- tableone::CreateTableOne(data = table_data,\n",
        "                                 strata = \"bmi_class\",\n",
        "                                 addOverall = T,\n",
        "                                 testNonNormal = wilcox.test,\n",
        "                                 testNormal = t.test,\n",
        "                                 includeNA = T)\n",
        "\n",
        "#use Shapiro-Wilk to test normality\n",
        "res <- lapply(table_data[sapply(table_data, is.numeric)], function(x){\n",
        "  temp <- shapiro.test(x)\n",
        "  return(temp$p.value)\n",
        "  })\n",
        "\n",
        "#screen variables that violate normality by Shapiro-Wilk at p=0.1\n",
        "not_norm <- res %>%\n",
        "  as.data.frame() %>%\n",
        "  pivot_longer(everything(), names_to = \"var\", values_to = \"p_val\") %>%\n",
        "  filter(p_val < 0.1) %>%\n",
        "  pull(var)\n",
        "\n",
        "#visually inspect all graphs to confirm\n",
        "  #glucose_0 is fine, others are not normally distributed\n",
        "  #takes a while to make plots, uncomment if you need to run\n",
        "# lapply(not_norm, FUN = function(var_name){\n",
        "#   p <- ggplot(data = table_data,\n",
        "#               aes(x = .data[[var_name]])) +\n",
        "#     geom_density() +\n",
        "#     theme_bw()\n",
        "#\n",
        "#   print(p)\n",
        "#\n",
        "# })\n",
        "\n",
        "#remove glucose_0 from not_norm, visually confirmed it's fine\n",
        "not_norm <- not_norm[-which(not_norm == \"glucose_0\")]\n",
        "\n",
        "#modify table 1 to use median[IQR] for skewed variables\n",
        "tab1 <- print(tab1,\n",
        "              nonnormal = not_norm,\n",
        "              contDigits = 3,\n",
        "              dropEqual = T,\n",
        "              printToggle = F,\n",
        "              exact = \"race_eth\",\n",
        "              #varLabels = T, #uses labels from var_label\n",
        "              #drop0trailing = T, #drops 0 after the decimal mark\n",
        "              noSpaces = T)\n",
        "\n",
        "#tidy up formatting\n",
        "tidy_tab1 <- as.data.frame(tab1) %>%\n",
        "  rownames_to_column(var = \"variable\") %>%\n",
        "  mutate(var_type = case_when(\n",
        "    grepl(\"median\", variable) ~ \"median\",\n",
        "    grepl(\"mean\", variable) ~ \"mean\",\n",
        "    .default = \"cat\"\n",
        "  )) %>%\n",
        "  filter(!grepl(\"id\", variable, ignore.case = T))\n",
        "\n",
        "#### Rounding Median Values Correctly ####\n",
        "\n",
        "rounded_med <- tidy_tab1 %>%\n",
        "  filter(var_type == \"median\") %>%\n",
        "  mutate(\n",
        "    ov_med = str_extract(Overall, pattern = regex(\"[:digit:]{1,4}\\\\.[:digit:]{1,4}(?=\\\\s\\\\[)\")),\n",
        "    ov_iqr1 = str_extract(Overall, pattern = regex(\"(?<=\\\\s\\\\[)[:digit:]{1,4}\\\\.[:digit:]{1,4}\")),\n",
        "    ov_iqr2 = str_extract(Overall, pattern = regex(\"[:digit:]{1,4}\\\\.[:digit:]{1,4}\\\\]\")),\n",
        "    ov_iqr2 = str_remove(ov_iqr2, \"\\\\]\")\n",
        "  ) %>%\n",
        "  mutate(\n",
        "    nw_med = str_extract(NW, pattern = regex(\"[:digit:]{1,4}\\\\.[:digit:]{1,4}(?=\\\\s\\\\[)\")),\n",
        "    nw_iqr1 = str_extract(NW, pattern = regex(\"(?<=\\\\s\\\\[)[:digit:]{1,4}\\\\.[:digit:]{1,4}\")),\n",
        "    nw_iqr2 = str_extract(NW, pattern = regex(\"[:digit:]{1,4}\\\\.[:digit:]{1,4}\\\\]\")),\n",
        "    nw_iqr2 = str_remove(nw_iqr2, \"\\\\]\")\n",
        "  ) %>%\n",
        "  mutate(\n",
        "    owob_med = str_extract(OWOB, pattern = regex(\"[:digit:]{1,4}\\\\.[:digit:]{1,4}(?=\\\\s\\\\[)\")),\n",
        "    owob_iqr1 = str_extract(OWOB, pattern = regex(\"(?<=\\\\s\\\\[)[:digit:]{1,4}\\\\.[:digit:]{1,4}\")),\n",
        "    owob_iqr2 = str_extract(OWOB, pattern = regex(\"[:digit:]{1,4}\\\\.[:digit:]{1,4}\\\\]\")),\n",
        "    owob_iqr2 = str_remove(owob_iqr2, \"\\\\]\")\n",
        "  ) %>%\n",
        "  mutate(across(contains(\"iqr\"), as.numeric)) %>%\n",
        "  mutate(across(contains(\"med\"), as.numeric)) %>%\n",
        "  rowwise() %>%\n",
        "  select(variable, contains(\"ov\"), contains(\"nw_\"), contains(\"owob_\"), p, test, var_type) %>%\n",
        "  mutate(across(where(is.numeric), function(x){\n",
        "    #browser()\n",
        "    if(x < 1){\n",
        "\n",
        "      return(round(x, digits = 2))\n",
        "\n",
        "    } else if (x <= 0.1){\n",
        "\n",
        "      return(round(x, digits = 3))\n",
        "\n",
        "    } else if(grepl(\"age\", variable, ignore.case = T)){\n",
        "\n",
        "      return(round(x, digits = 1))\n",
        "\n",
        "    } else if(grepl(\"bmi\", variable, ignore.case = T)){\n",
        "\n",
        "      return(round(x, digits = 1))\n",
        "\n",
        "    } else if(grepl(\"adiponectin\", variable, ignore.case = T)){\n",
        "\n",
        "      return(round(x, digits = 0))\n",
        "\n",
        "    } else if(grepl(\"matsuda\", variable, ignore.case = T)){\n",
        "\n",
        "      return(round(x, digits = 2))\n",
        "\n",
        "    }else if(grepl(\"a1c\", variable, ignore.case = T)){\n",
        "\n",
        "      return(round(x, digits = 2))\n",
        "\n",
        "    }else{\n",
        "\n",
        "      return(round(x, digits=1))\n",
        "\n",
        "    }\n",
        "\n",
        "  })) %>%\n",
        "  mutate(across(everything(), function(x){\n",
        "    if(grepl(\"adiponectin\",variable)){\n",
        "      format(x, nsmall = 0)\n",
        "    } else if(grepl(\"matsuda|RER|carbo|lipid\",variable)){\n",
        "      format(x, nsmall = 2)\n",
        "    }else if(grepl(\"age|kcal\",variable)){\n",
        "      format(x, nsmall = 0)\n",
        "    }else{\n",
        "      format(x, nsmall = 1)\n",
        "    }\n",
        "\n",
        "  })) %>%\n",
        "  mutate(Overall = paste0(ov_med, \" [\", ov_iqr1, \", \", ov_iqr2, \"]\"),\n",
        "         `NW` = paste0(nw_med, \" [\", nw_iqr1, \", \", nw_iqr2, \"]\"),\n",
        "         `OWOB` = paste0(owob_med, \" [\", owob_iqr1, \", \", owob_iqr2, \"]\"),\n",
        "         .keep = \"unused\")\n",
        "\n",
        "#tidy up means\n",
        "  #in the future, use custom func with sprintf and table1::round_pad\n",
        "means <- tidy_tab1 %>%\n",
        "  filter(var_type == \"mean\") %>%\n",
        "  #extract means and SD from each variable so they can be converted from character to numeric\n",
        "  mutate(\n",
        "    ov_mean = str_extract(Overall, pattern = regex(\"-?[:digit:]{1,4}\\\\.[:digit:]{1,4}(?=\\\\s\\\\()\")),\n",
        "    ov_sd = str_extract(Overall, pattern = regex(\"(?<=\\\\s\\\\()[:digit:]{1,4}\\\\.[:digit:]{1,4}\")),\n",
        "    nw_mean = str_extract(NW, pattern = regex(\"-?[:digit:]{1,4}\\\\.[:digit:]{1,4}(?=\\\\s\\\\()\")),\n",
        "    nw_sd = str_extract(NW, pattern = regex(\"(?<=\\\\s\\\\()[:digit:]{1,4}\\\\.[:digit:]{1,4}\")),\n",
        "    owob_mean = str_extract(OWOB, pattern = regex(\"-?[:digit:]{1,4}\\\\.[:digit:]{1,4}(?=\\\\s\\\\()\")),\n",
        "    owob_sd = str_extract(OWOB, pattern = regex(\"(?<=\\\\s\\\\()[:digit:]{1,4}\\\\.[:digit:]{1,4}\"))\n",
        "    ) %>%\n",
        "  mutate(across(contains(\"mean\"), as.numeric)) %>%\n",
        "  mutate(across(contains(\"sd\"), as.numeric)) %>%\n",
        "  rowwise() %>%\n",
        "  select(variable, contains(\"ov\"), contains(\"nw_\"), contains(\"owob_\"), p, test, var_type) %>%\n",
        "  mutate(across(where(is.numeric), function(x){\n",
        "    #browser()\n",
        "    if(x < 2){\n",
        "\n",
        "      return(round(x, digits = 2))\n",
        "\n",
        "    } else if (x <= 0.1){\n",
        "\n",
        "      return(round(x, digits = 3))\n",
        "\n",
        "    } else if (grepl(\"glucose\", variable, ignore.case = T)){\n",
        "      return(round(x, digits = 0))\n",
        "    } else {\n",
        "      #if(grepl(\"age\", variable, ignore.case = T))\n",
        "      return(round(x, digits = 1))\n",
        "    }\n",
        "    })) %>%\n",
        "  mutate(Overall = paste0(ov_mean, \" (\", ov_sd, \")\"),\n",
        "         NW = paste0(nw_mean, \" (\", nw_sd, \")\"),\n",
        "         OWOB = paste0(owob_mean, \" (\", owob_sd, \")\"),\n",
        "         .keep = \"unused\")\n",
        "\n",
        "#tidy up the names and units of continuous variables\n",
        "cont_vars <- bind_rows(means, rounded_med) %>%\n",
        "  separate(variable, into = c(\"name\", \"summary\"), sep = \" \\\\(m\") %>%\n",
        "  select(name, Overall, NW, OWOB, p, test, var_type)\n",
        "\n",
        "#pull off categorical variables and format\n",
        "cat_vars <- tidy_tab1 %>%\n",
        "  filter(var_type == \"cat\",\n",
        "         !grepl(\"n\", variable),\n",
        "         # !grepl(\"sex\", variable)\n",
        "         ) %>%\n",
        "  select(variable, Overall, NW, OWOB, p, test, var_type) %>%\n",
        "  rename(name = variable)\n",
        "\n",
        "#merge all variable types back together\n",
        "  #remove leading whitespace from race/ethnicity subgroups\n",
        "all_vars <- bind_rows(cat_vars, cont_vars) %>%\n",
        "  mutate(name = str_remove_all(name, pattern = \" \")) %>%\n",
        "  filter(name != \"bmi_class(%)\")\n",
        "\n",
        "#### Add in correlation to BF% ####\n",
        "\n",
        "all_vars$bf_cor <- NA\n",
        "\n",
        "# all_vars[(all_vars$var_type != \"cat\"),]\n",
        "\n",
        "for(i in 1:nrow(all_vars)){\n",
        "\n",
        "  #skip over categorical variables\n",
        "  if(all_vars$var_type[i] == \"cat\"){\n",
        "\n",
        "    all_vars$bf_cor[i] <- NA\n",
        "\n",
        "  }else{\n",
        "    #use the current row and pull that data out of table_data\n",
        "    test_var <- pull(table_data[,all_vars$name[i]])\n",
        "\n",
        "    #save results of pearson correlation\n",
        "    cor_res <- stats::cor.test(test_var, table_data$percent_fat, method = \"pearson\")\n",
        "\n",
        "    res <- list(r = round(cor_res$estimate, 3),\n",
        "                p = Hmisc::format.pval(cor_res$p.value,\n",
        "                                       #nsmall is min digits, digits is which are sig, and eps is lowest value before p<...\n",
        "                                       nsmall = 3, digits = 3, eps = 0.001))\n",
        "\n",
        "    #write up results differently depending on whether it's p= or p<0.001\n",
        "    if(grepl(\"<\", res$p)){\n",
        "      all_vars$bf_cor[i] <- paste0(\"r=\", res$r, \"; p\", res$p)\n",
        "    }else{\n",
        "      all_vars$bf_cor[i] <- paste0(\"r=\", res$r, \"; p=\", res$p)\n",
        "    }\n",
        "\n",
        "\n",
        "  }\n",
        "\n",
        "}\n",
        "\n",
        "\n",
        "#clear out the correlation of BF% with BF% itself\n",
        "bf_row <- which(all_vars$name == \"percent_fat\") #percent fat row\n",
        "all_vars$bf_cor[bf_row] <- NA\n",
        "\n",
        "#split tables into anthropometric and clinical variables\n",
        "anthro_vars <- c(\n",
        "  \"sex(%)\",\n",
        "  \"race_eth(%)\",\n",
        "  \"Black\",\n",
        "  \"hsl\",\n",
        "  \"other\",\n",
        "  \"white\",\n",
        "  \"age_yrs\",\n",
        "  \"ogtt_height_m\",\n",
        "  \"ogtt_weight_kg\",\n",
        "  \"bmi\",\n",
        "  \"fat_mass\",\n",
        "  \"ffm\",\n",
        "  \"percent_fat\",\n",
        "  \"vat_vol_trfm\",\n",
        "  \"ree\",\n",
        "  \"rer_0\",\n",
        "  \"cho_0\",\n",
        "  \"fat_0\",\n",
        "  \"vo2max_rel\",\n",
        "  \"vo2max_abs\"\n",
        ")\n",
        "\n",
        "clinical_vars <- c(\n",
        "  \"glucose_0\",\n",
        "  \"insulin_0\",\n",
        "  \"nefa_0\",\n",
        "  \"lactate_0\",\n",
        "  \"a1c_rest\",\n",
        "  \"cholesterol_rest\",\n",
        "  \"hdl_rest\",\n",
        "  \"ldl_rest\",\n",
        "  \"trig_rest\",\n",
        "  \"matsuda\",\n",
        "  \"homa_ir\",\n",
        "  \"adip_ir_ogtt\",\n",
        "  \"adip_ir_rest\",\n",
        "  \"adiponectin_ngmL\",\n",
        "  \"leptin_pgmL\",\n",
        "  \"crp_mgL\"\n",
        ")\n",
        "\n",
        "final_tables <- all_vars %>%\n",
        "  mutate(final_table = case_when(\n",
        "    name %in% all_vars$name[match(clinical_vars, all_vars$name)] ~ \"clinical\",\n",
        "    name %in% all_vars$name[match(anthro_vars, all_vars$name)] ~ \"anthro\",\n",
        "  )) %>%\n",
        "  mutate(name = case_when(\n",
        "    name == \"sex(%)\" ~ \"Female, n (%)\",\n",
        "    name == \"age_yrs\" ~ \"Age (yrs)\",\n",
        "    name == \"ogtt_height_m\" ~ \"Height (m)\",\n",
        "    name == \"ogtt_weight_kg\" ~ \"Weight (kg)\",\n",
        "    name == \"bmi\" ~ \"BMI (kg/m2)\",\n",
        "    name == \"ffm\" ~ \"Fat Free Mass (kg)\",\n",
        "    name == \"fat_mass\" ~ \"Fat Mass (kg)\",\n",
        "    name == \"percent_fat\" ~ \"Body Fat (%)\",\n",
        "    name == \"matsuda\" ~ \"Matsuda Index\",\n",
        "    name == \"homa_ir\" ~ \"HOMA-IR\",\n",
        "    name == \"adip_ir_ogtt\" ~ \"AdipIR (OGTT)\",\n",
        "    name == \"adip_ir_rest\" ~ \"AdipIR (fasting)\",\n",
        "    name == \"nefa_0\" ~ \"NEFA (mEq/L)\",\n",
        "    name == \"adiponectin_ngmL\" ~ \"Adiponectin (ng/mL)\",\n",
        "    name == \"leptin_pgmL\" ~ \"Leptin (pg/mL)\",\n",
        "    name == \"crp_mgL\" ~ \"CRP (mg/L)\",\n",
        "    name == \"hdl_rest\" ~ \"HDL (mg/dL)\",\n",
        "    name == \"trig_rest\" ~ \"Triglycerides (mg/dL)\",\n",
        "    name == \"a1c_rest\" ~ \"HbA1c (%)\",\n",
        "    name == \"vat_vol_trfm\" ~ \"VAT Volume (in3)\",\n",
        "    name == \"rer_0\" ~ \"Respiratory Exchange Ratio (RER)\",\n",
        "    name == \"cho_0\" ~ \"Carbohydrate Oxidation (g/min)\",\n",
        "    name == \"fat_0\" ~ \"Lipid Oxidation (g/min)\",\n",
        "    name == \"ree\" ~ \"Resting Metabolic Rate (kcal/d)\",\n",
        "    name == \"vo2max_rel\" ~ \"VO2peak (mL/kg/min)\",\n",
        "    name == \"vo2max_abs\" ~ \"VO2peak (L/min)\",\n",
        "    name == \"glucose_0\" ~ \"Blood Glucose (mg/dL)\",\n",
        "    name == \"insulin_0\" ~ \"Serum Insulin (microIU/mL)\",\n",
        "    name == \"lactate_0\" ~ \"Serum Lactate (mM)\",\n",
        "    name == \"cholesterol_rest\" ~ \"Total Cholesterol (mg/dL)\",\n",
        "    name == \"ldl_rest\" ~ \"LDL (mg/dL)\",\n",
        "    name == \"race_eth(%)\" ~ \"NIH Race/Ethnicity (%)\",\n",
        "    str_detect(string = name, pattern = \"hsl\") ~ \"   Hispanic or Latino\",\n",
        "    str_detect(string = name, pattern = \"other\") ~ \"   Unknown\",\n",
        "    str_detect(string = name, pattern = \"white\") ~ \"   white\",\n",
        "    str_detect(string = name, pattern = \"Black\") ~ \"   Black\",\n",
        "    .default = name\n",
        "  )) %>%\n",
        "  select(name, Overall, NW, OWOB, p, final_table, bf_cor) %>%\n",
        "  rename(Variable = name,\n",
        "         `All (n = 27)` = Overall,\n",
        "         `NW (n = 12)` = NW,\n",
        "         `OWOB (n = 15)` = OWOB,\n",
        "         `Association with BF%` = bf_cor)\n",
        "\n",
        "#split the tables up\n",
        "clinical_table <- final_tables[match(clinical_vars, all_vars$name),] %>%\n",
        "  select(-final_table)\n",
        "\n",
        "anthro_table <- final_tables[match(anthro_vars, all_vars$name),] %>%\n",
        "  select(-final_table)\n",
        "\n",
        "#find the row corresponding to the end of traditional anthro\n",
        "  #and start of body comp\n",
        "r <- grep(\"bmi\", anthro_table$Variable, ignore.case = T)\n",
        "\n",
        "new_row <- data.frame(matrix(c(\"Body Composition\", \"\", \"\", \"\", \"\", \"\"),\n",
        "                             nrow = 1))\n",
        "\n",
        "colnames(new_row) <- colnames(anthro_table)\n",
        "\n",
        "#Add blank row with Body Composition to create sub-heading in table\n",
        "anthro_table <- rbind(anthro_table[1:r,], new_row, anthro_table[-(1:r),])\n",
        "\n",
        "table1 <- bind_rows(anthro_table, clinical_table)\n"
      ]
    },
    {
      "cell_type": "markdown",
      "metadata": {
        "id": "qfcJQ_-G0UMA"
      },
      "source": [
        "# Initial Ancillary Analyses"
      ]
    },
    {
      "cell_type": "markdown",
      "metadata": {
        "id": "zZIUl_hJ4T-1"
      },
      "source": [
        "These analyses help compliment the mixed effects models in the manuscript and better allow for comparison between conventional analyses in the field (t-tests, ANOVA, division by BMI, etc.) and our mixed effects models, which may be unfamiliar to some readers."
      ]
    },
    {
      "cell_type": "code",
      "execution_count": 18,
      "metadata": {
        "collapsed": true,
        "id": "bQE3NB9_zN3B",
        "colab": {
          "base_uri": "https://localhost:8080/"
        },
        "outputId": "88bc6e44-1c88-4fa6-8519-eb5a78da69cd"
      },
      "outputs": [
        {
          "output_type": "stream",
          "name": "stderr",
          "text": [
            "Warning message:\n",
            "“\u001b[1m\u001b[22mUsing an external vector in selections was deprecated in tidyselect 1.1.0.\n",
            "\u001b[36mℹ\u001b[39m Please use `all_of()` or `any_of()` instead.\n",
            "  # Was:\n",
            "  data %>% select(upper_var)\n",
            "\n",
            "  # Now:\n",
            "  data %>% select(all_of(upper_var))\n",
            "\n",
            "See <https://tidyselect.r-lib.org/reference/faq-external-vector.html>.”\n"
          ]
        }
      ],
      "source": [
        "std_vars <- mean_sds %>%\n",
        "  filter(var != \"time\") %>%\n",
        "  pull(var)\n",
        "\n",
        "#pull together data on means\n",
        "ref_means <- mean_sds %>%\n",
        "  select(var, mean) %>%\n",
        "  t()\n",
        "\n",
        "colnames(ref_means) <- ref_means[1,]\n",
        "ref_means <- ref_means[-1,]\n",
        "ref_means <- sapply(ref_means, as.numeric)\n",
        "\n",
        "#pull together data on SD\n",
        "ref_sd <- mean_sds %>%\n",
        "  select(var, sd) %>%\n",
        "  t()\n",
        "colnames(ref_sd) <- ref_sd[1,]\n",
        "ref_sd <- ref_sd[-1,]\n",
        "ref_sd <- sapply(ref_sd, as.numeric)\n",
        "\n",
        "#first undo standardization to calculate AUCs\n",
        "unstd_analysis <- analysis %>%\n",
        "  mutate(#time = as.character(time),\n",
        "         id = as.character(id),\n",
        "    across(where(is.numeric),\n",
        "                ~ (. * ref_sd[cur_column()]) + ref_means[cur_column()]\n",
        "                  ),\n",
        "    #time = as.numeric(time)*30,\n",
        "    id = as.numeric(id),\n",
        "    bmi_class = as.factor(case_when(bmi > 18.5 & bmi < 25 ~ \"NW\",\n",
        "                             bmi >= 25 ~ \"OWOB\"))) %>%\n",
        "  select(id, time, matches(\"gluc|ins|nefa|rer|cho|lac\"), fat_0, post_fat, percent_fat, bmi_class, bmi)\n",
        "\n",
        "#pull off just id and BF% for joining later, remove dup rows from long format\n",
        "unstd_bf <- unstd_analysis[,c(\"id\",\"percent_fat\")]\n",
        "unstd_bf <- unstd_bf[!duplicated(unstd_bf),]\n",
        "\n",
        "#pull off baseline data\n",
        "bsl_data <- unstd_analysis %>%\n",
        "  select(id, bmi, bmi_class, contains(\"_0\")) %>%\n",
        "  rename_with(~str_remove(., \"_0\"))\n",
        "\n",
        "#remove duplicates leftover from long data\n",
        "bsl_data <- bsl_data[!duplicated(bsl_data), ] %>%\n",
        "  mutate(time = 0)\n",
        "\n",
        "#add baseline data to postprandial data\n",
        "unstd_analysis <- unstd_analysis %>%\n",
        "  select(id, bmi_class, time, contains(\"post\")) %>%\n",
        "  rename_with(~str_remove(., \"post_\")) %>%\n",
        "  rename(insulin = ins, glucose = gluc, lactate = lac) %>%\n",
        "  bind_rows(., bsl_data) %>%\n",
        "  arrange(id, time) %>%\n",
        "  left_join(., unstd_bf, by = \"id\") #need to join here so bind_rows works\n",
        "\n",
        "#use trapezoidal rule/Tai method to find AUC\n",
        "auc_data <- unstd_analysis %>%\n",
        "  mutate(insulin = exp(insulin),\n",
        "         nefa = exp(nefa)) %>%\n",
        "  group_by(id) %>%\n",
        "  summarize(rer_auc = trap_rule(var = \"rer\"),\n",
        "            cho_auc = trap_rule(var = \"cho\"),\n",
        "            fat_auc = trap_rule(var = \"fat\"),\n",
        "            gluc_auc = trap_rule(var = \"glucose\"),\n",
        "            ins_auc = trap_rule(var = \"insulin\"),\n",
        "            nefa_auc = trap_rule(var = \"nefa\"),\n",
        "            lac_auc = trap_rule(var = \"lactate\"),\n",
        "            percent_fat = unique(percent_fat))\n",
        "\n",
        "## SHOW CHANGE IN OUTCOMES OVER TIME DURING OGTT\n",
        "  #Goal is demonstrating the expected change in outcomes during OGTT\n",
        "ogtt_means <- unstd_analysis %>%\n",
        "  select(-percent_fat, -bmi, -id) %>%\n",
        "  mutate(insulin = exp(insulin),\n",
        "         nefa = exp(nefa)) %>%\n",
        "  group_by(time) %>%\n",
        "  summarize(across(where(is.numeric), list(\n",
        "    mean = ~ mean(., na.rm = T),\n",
        "    sd = ~ sd(., na.rm = T)),\n",
        "    .names = \"{col}_{fn}\")) %>%\n",
        "  #set up rounding\n",
        "  mutate(across(contains(\"glucose\"), ~round(., digits = 1)),\n",
        "         across(matches(\"insulin|nefa|lac\"), ~round(., digits = 2)),\n",
        "         across(matches(regex(\"fat|cho|rer\")), ~round(., digits = 3))) %>%\n",
        "  #not fancy code but it merges mean and SD into one column\n",
        "  unite(col = \"rer\", contains(\"rer\"), sep = \" ± \") %>%\n",
        "  unite(col = \"cho\", contains(\"cho\"), sep = \" ± \") %>%\n",
        "  unite(col = \"fat\", contains(\"fat\"), sep = \" ± \") %>%\n",
        "  unite(col = \"glucose\", contains(\"glucose\"), sep = \" ± \") %>%\n",
        "  unite(col = \"insulin\", contains(\"insulin\"), sep = \" ± \") %>%\n",
        "  unite(col = \"nefa\", contains(\"nefa\"), sep = \" ± \") %>%\n",
        "  unite(col = \"lactate\", contains(\"lactate\"), sep = \" ± \")\n",
        "\n",
        "vars <-  c(\"glucose\", \"insulin\", \"nefa\", \"lactate\", \"rer\", \"cho\", \"fat\")\n",
        "\n",
        "#pull together OGTT results by timepoint\n",
        "change_res <- lapply(vars, ogtt_change) %>%\n",
        "  bind_cols() %>%\n",
        "  mutate(Time = seq(0, 120, 30)) %>%\n",
        "  relocate(Time, Glucose, Insulin, NEFA, LACTATE, RER, CHO, FOX) %>%\n",
        "  mutate(Time = as.character(Time))\n",
        "\n",
        "#make row with AUC data\n",
        "auc_res <- auc_data %>%\n",
        "  summarize(across(contains(\"auc\"),  ~m_sd(.))) %>%\n",
        "  rename_with(~str_remove(., \"_auc\")) %>%\n",
        "  rename(RER = rer, CHO = cho, FOX = fat, Glucose = gluc,\n",
        "         Insulin = ins, NEFA = nefa, Lactate = lac) %>%\n",
        "  relocate(Glucose, Insulin, NEFA, Lactate, RER, CHO, FOX) %>%\n",
        "  mutate(Time = \"AUC\")\n",
        "\n",
        "\n",
        "#pull off p-values to reference in text\n",
        "supp_t1_p <- change_res %>%\n",
        "  mutate(Time = as.numeric(Time)) %>%\n",
        "  filter(Time > 15) %>%\n",
        "  separate_wider_delim(c(-Time), delim = \"(\", names_sep = \"_\") %>%\n",
        "  select(Time, contains(\"_2\")) %>%\n",
        "  rename_with(~str_remove(., \"_2\")) %>%\n",
        "  mutate(across(everything(), ~str_remove(., \"p = \")),\n",
        "         across(everything(), ~str_remove(., \"\\\\)\")),\n",
        "         across(everything(), ~str_remove(., \"p\")),\n",
        "         across(everything(), ~str_remove(., \" \")),\n",
        "         t = as.numeric(Time)) %>%\n",
        "  janitor::clean_names() %>%\n",
        "  pivot_wider(names_from = time, values_from = c(-time))\n",
        "\n",
        "\n",
        "#add row with AUC datas\n",
        "change_res <- change_res %>%\n",
        "  rename(Lactate = LACTATE) %>%\n",
        "  bind_rows(auc_res) %>%\n",
        "  rename(CHOX = CHO)\n",
        "\n",
        "#Might throw a warning about use of all_of or any_of"
      ]
    },
    {
      "cell_type": "code",
      "execution_count": 19,
      "metadata": {
        "collapsed": true,
        "id": "h6aGpki6AIGl"
      },
      "outputs": [],
      "source": [
        "#Now transition to effect of BF%, first on AUC\n",
        "\n",
        "#shown in main results\n",
        "auc_rer <- apa_print(lm(rer_auc ~ percent_fat, data = auc_data))$full_result[\"percent_fat\"]\n",
        "auc_cho <- apa_print(lm(cho_auc ~ percent_fat, data = auc_data))$full_result[\"percent_fat\"]\n",
        "\n",
        "#shown in supplemental materials\n",
        "auc_fox <- apa_print(lm(fat_auc ~ percent_fat, data = auc_data))$full_result[\"percent_fat\"]\n",
        "auc_gluc <- apa_print(lm(gluc_auc ~ percent_fat, data = auc_data))$full_result[\"percent_fat\"]\n",
        "auc_ins <- apa_print(lm(ins_auc ~ percent_fat, data = auc_data))$full_result[\"percent_fat\"]\n",
        "auc_nefa <- apa_print(lm(nefa_auc ~ percent_fat, data = auc_data))$full_result[\"percent_fat\"]\n",
        "auc_lactate <- apa_print(lm(lac_auc ~ percent_fat, data = auc_data))$full_result[\"percent_fat\"]"
      ]
    },
    {
      "cell_type": "markdown",
      "metadata": {
        "id": "60x_Mfs_B8lE"
      },
      "source": []
    },
    {
      "cell_type": "markdown",
      "metadata": {
        "id": "uX0nTkhqB5QU"
      },
      "source": [
        "# Prepare Tables and Figures"
      ]
    },
    {
      "cell_type": "markdown",
      "metadata": {
        "id": "mFjTBO90O1hw"
      },
      "source": [
        "## Prep Figure 1"
      ]
    },
    {
      "cell_type": "code",
      "execution_count": 20,
      "metadata": {
        "id": "NZhcaAjGO6Sf"
      },
      "outputs": [],
      "source": [
        "\n",
        "#set up ggplot theme for Figures 2 and 3\n",
        "theme_set(theme_classic() +\n",
        "             theme(panel.grid = element_blank(),\n",
        "                   panel.background = element_rect(colour = \"white\"),\n",
        "                   #axis.line = element_blank(),\n",
        "                   #axis.line.x.bottom = element_blank(), #remove bottom axis\n",
        "                   #axis.ticks.x.bottom = element_blank(), #remove bottom ticks\n",
        "                   #axis.title.x.bottom = element_blank(), #remove bottom label\n",
        "                   #axis.text.x = element_blank(),\n",
        "                   axis.line.y.left = element_line(),\n",
        "                   axis.ticks.length.y = unit(0, \"cm\"),\n",
        "                   axis.ticks = element_line(linewidth = 1.1),\n",
        "                   text = element_text(size = 30),\n",
        "                   line = element_line(linewidth = 1.5),\n",
        "                   # strip.text.x.bottom = element_text(size = 10),\n",
        "                   # strip.placement = \"outside\",\n",
        "                   # strip.background = element_rect(fill = \"gray\",\n",
        "                   #                    colour = NA),\n",
        "                   #sets the location of the tags (A,B,C, etc.) in the plot\n",
        "                   plot.tag.position = c(0.1, 0.95),\n",
        "                   plot.tag.location = \"panel\" #moves inside the plot\n",
        "             ))\n",
        "\n",
        "#Data manipulation to have data for All but also by BMI class\n",
        "split_data <- unstd_analysis %>%\n",
        "  select(id, bmi_class, time, insulin, glucose, nefa, lactate) %>%\n",
        "  ungroup() %>%\n",
        "  group_split(bmi_class)\n",
        "\n",
        "if(unique(split_data[[1]]$bmi_class) == \"NW\"){\n",
        "  dup_nw <- split_data[[1]]\n",
        "  dup_nw$bmi_class <- \"All\"\n",
        "  dup_owob <- split_data[[2]]\n",
        "  dup_owob$bmi_class <- \"All\"\n",
        "} else{\n",
        "  dup_nw <- split_data[[2]]\n",
        "  dup_nw$bmi_class <- \"All\"\n",
        "  dup_owob <- split_data[[1]]\n",
        "  dup_owob$bmi_class <- \"All\"\n",
        "}\n",
        "\n",
        "\n",
        "#Setting up data for plotting\n",
        "plot_data <- bind_rows(split_data[[1]], split_data[[2]],\n",
        "                       dup_nw, dup_owob) %>%\n",
        "  mutate(insulin = exp(insulin),\n",
        "         nefa = exp(nefa))\n",
        "\n",
        "#now separate out plot data into data frames for simpler plotting\n",
        "all_plot <- plot_data %>% filter(bmi_class == \"All\")\n",
        "nw_plot <- plot_data %>% filter(bmi_class == \"NW\")\n",
        "owob_plot <- plot_data %>% filter(bmi_class == \"OWOB\")\n",
        "\n",
        "\n",
        "#create data for plotting\n",
        "sub_ox_split_data <- unstd_analysis %>%\n",
        "  select(id, bmi_class, time, rer, cho, fat) %>%\n",
        "  ungroup() %>%\n",
        "  group_split(bmi_class)\n",
        "\n",
        "if(unique(sub_ox_split_data[[1]]$bmi_class) == \"NW\"){\n",
        "  dup_nw <- sub_ox_split_data[[1]]\n",
        "  dup_nw$bmi_class <- \"All\"\n",
        "  dup_owob <- sub_ox_split_data[[2]]\n",
        "  dup_owob$bmi_class <- \"All\"\n",
        "} else{\n",
        "  dup_nw <- sub_ox_split_data[[2]]\n",
        "  dup_nw$bmi_class <- \"All\"\n",
        "  dup_owob <- sub_ox_split_data[[1]]\n",
        "  dup_owob$bmi_class <- \"All\"\n",
        "}\n",
        "\n",
        "#Setting up data for plotting\n",
        "subox_plot_data <- bind_rows(sub_ox_split_data[[1]], sub_ox_split_data[[2]],\n",
        "                       dup_nw, dup_owob)\n",
        "\n",
        "#now separate out plot data into data frames for simpler plotting\n",
        "all_subox <- subox_plot_data %>% filter(bmi_class == \"All\")\n",
        "nw_subox <- subox_plot_data %>% filter(bmi_class == \"NW\")\n",
        "owob_subox <- subox_plot_data %>% filter(bmi_class == \"OWOB\")\n"
      ]
    },
    {
      "cell_type": "code",
      "execution_count": 21,
      "metadata": {
        "id": "DVhY19t3PViI"
      },
      "outputs": [],
      "source": [
        "#save data for Figure 1 to file in results folder\n",
        "\n",
        "if (!dir.exists(\"results\")) {\n",
        "  dir.create(\"results\")\n",
        "}\n",
        "figure1_df <- list(Blood = all_plot, Blood.NW = nw_plot, Blood.OWOB = owob_plot,\n",
        "          SubOx = all_subox, SubOx.NW = nw_subox, SubOx.OWOB = owob_subox)\n",
        "writexl::write_xlsx(figure1_df, \"./results/figure1_data.xlsx\")\n",
        "remove(figure1_df) #to avoid confusion with plotting df below"
      ]
    },
    {
      "cell_type": "code",
      "execution_count": 22,
      "metadata": {
        "id": "af_PyowDP4x-",
        "colab": {
          "base_uri": "https://localhost:8080/"
        },
        "outputId": "21640ccf-3025-4234-a84c-f1d1a7e35353"
      },
      "outputs": [
        {
          "output_type": "stream",
          "name": "stderr",
          "text": [
            "\u001b[1m\u001b[22m`summarise()` has grouped output by 'time'. You can override using the\n",
            "`.groups` argument.\n"
          ]
        }
      ],
      "source": [
        "#Note: This analysis does not reproduce the ANOVAs which were done in OriginPro\n",
        "  #However, the data assembled above was used to make the figures\n",
        "  #And the plots below are comparable to those created by Origin\n",
        "\n",
        "fig1_df <- full_join(nw_plot,select(nw_subox,-bmi_class), by = c(\"id\", \"time\")) %>%\n",
        "  bind_rows(full_join(owob_plot,select(owob_subox,-bmi_class), by = c(\"id\", \"time\"))) %>%\n",
        "  mutate(time = plyr::round_any(time, 30)) #fixes rounding from undoing center/scaling\n",
        "\n",
        "fig1_long <- fig1_df %>%\n",
        "  group_by(time, bmi_class) %>%\n",
        "  select(-id) %>%\n",
        "  summarize(across(where(is.numeric), list(\n",
        "    mean = ~ mean(., na.rm = T),\n",
        "    sd = ~ sd(., na.rm = T)),\n",
        "    .names = \"{fn}_{col}\")) %>%\n",
        "      pivot_longer(\n",
        "    cols = -c(time, bmi_class),\n",
        "    names_to = c(\"stat\", \"outcome\"),\n",
        "    names_sep = \"_\"\n",
        "  ) %>%\n",
        "  pivot_wider(names_from = stat, values_from = value)\n",
        "\n",
        "fig1_long$outcome <- factor(fig1_long$outcome,\n",
        "                            levels = c(\"glucose\", \"cho\", \"insulin\",\n",
        "                                       \"fat\", \"lactate\", \"rer\", \"nefa\"))\n",
        "\n",
        "fig1 <- ggplot(fig1_long, aes(x = time, y = mean, shape = bmi_class,\n",
        "        group = bmi_class, linetype = bmi_class)) +\n",
        "  geom_point(position = position_dodge(width = 0.3), size = 2) +\n",
        "  geom_line(position = position_dodge(width = 0.3)) +\n",
        "  geom_errorbar(aes(ymin = mean - sd, ymax = mean + sd),\n",
        "                width = 2.5,\n",
        "                position = position_dodge(width = 0.5)) +\n",
        "  facet_wrap(~ outcome, scales = \"free_y\", ncol =  2) +\n",
        "  theme_bw(base_size = 16) +\n",
        "  scale_x_continuous(breaks = seq(0,120,30)) +\n",
        "  scale_shape_manual(values = c(\"NW\" = 0, \"OWOB\" = 19)) +\n",
        "  scale_linetype_manual(values = c(\"NW\" = \"solid\", \"OWOB\" = \"dashed\")) +\n",
        "  labs(x = \"Time\", shape = \"BMI class\", y = NULL)\n",
        "\n",
        "#Right click and select \"Open image in new tab\" to see a larger image"
      ]
    },
    {
      "cell_type": "markdown",
      "metadata": {
        "id": "Rp8QULsEP854"
      },
      "source": [
        "## Key MetFlex Models"
      ]
    },
    {
      "cell_type": "code",
      "execution_count": 23,
      "metadata": {
        "id": "C-zNxhDvQPXo",
        "collapsed": true,
        "colab": {
          "base_uri": "https://localhost:8080/",
          "height": 312
        },
        "outputId": "c03d54b9-6e53-4d96-aadf-7cd2b3711538"
      },
      "outputs": [
        {
          "output_type": "stream",
          "name": "stderr",
          "text": [
            "refitting model(s) with ML (instead of REML)\n",
            "\n"
          ]
        },
        {
          "output_type": "stream",
          "name": "stdout",
          "text": [
            "[1] \"Quadratic model selected, p = 0.002\"\n",
            "[1] \"Significant interaction. Returning model for plotting\"\n"
          ]
        },
        {
          "output_type": "stream",
          "name": "stderr",
          "text": [
            "refitting model(s) with ML (instead of REML)\n",
            "\n"
          ]
        },
        {
          "output_type": "stream",
          "name": "stdout",
          "text": [
            "[1] \"Quadratic model selected, p = 0.002\"\n",
            "[1] \"Significant interaction. Returning model for plotting\"\n"
          ]
        },
        {
          "output_type": "stream",
          "name": "stderr",
          "text": [
            "refitting model(s) with ML (instead of REML)\n",
            "\n"
          ]
        },
        {
          "output_type": "stream",
          "name": "stdout",
          "text": [
            "[1] \"Quadratic model selected, p = 0.002\"\n",
            "[1] \"Significant interaction. Returning model for plotting\"\n"
          ]
        },
        {
          "output_type": "stream",
          "name": "stderr",
          "text": [
            "refitting model(s) with ML (instead of REML)\n",
            "\n"
          ]
        },
        {
          "output_type": "stream",
          "name": "stdout",
          "text": [
            "[1] \"Comparison between CHO + FFM model vs. CHO alone\"\n"
          ]
        },
        {
          "output_type": "display_data",
          "data": {
            "text/html": [
              "'(p=0.204)'"
            ],
            "text/markdown": "'(p=0.204)'",
            "text/latex": "'(p=0.204)'",
            "text/plain": [
              "[1] \"(p=0.204)\""
            ]
          },
          "metadata": {}
        },
        {
          "output_type": "stream",
          "name": "stdout",
          "text": [
            "[1] \"P >= 0.05 so CHO + FFM isn't better than CHO alone\"\n"
          ]
        }
      ],
      "source": [
        "\n",
        "#effect of BF% on postprandial RER\n",
        "rer_percent <- linear_quad_models(adiposity = \"percent_fat\",\n",
        "                   outcome = \"post_rer\",\n",
        "                   baseline = \"rer_0\",\n",
        "                   ffm = F)\n",
        "\n",
        "#effect of BF% on postprandial CHO\n",
        "cho_percent <- linear_quad_models(adiposity = \"percent_fat\",\n",
        "                   outcome = \"post_cho\",\n",
        "                   baseline = \"cho_0\",\n",
        "                   ffm = F)\n",
        "\n",
        "                   #effect of BF% on normalized carbohydrate oxidation\n",
        "norm_cho <- linear_quad_models(adiposity = \"percent_fat\",\n",
        "                   outcome = \"post_cho\",\n",
        "                   baseline = \"cho_0\",\n",
        "                   ffm = T)\n",
        "\n",
        "#compare the two CHO models\n",
        "comp_norm_cho <- anova(cho_percent$mod$mod, norm_cho$mod$mod, test = \"LRT\") %>%\n",
        "  data.frame() %>%\n",
        "  rename(p_val = `Pr..Chisq.`) %>%\n",
        "  format_chisq_res()\n",
        "\n",
        "print(\"Comparison between CHO + FFM model vs. CHO alone\")\n",
        "comp_norm_cho\n",
        "print(\"P >= 0.05 so CHO + FFM isn't better than CHO alone\")\n",
        "\n"
      ]
    },
    {
      "cell_type": "markdown",
      "metadata": {
        "id": "kkmdaKOISMfb"
      },
      "source": [
        "## Prep Figure 2"
      ]
    },
    {
      "cell_type": "markdown",
      "metadata": {
        "id": "fvtSThJwcQVe"
      },
      "source": [
        "### Prep Figure 2A"
      ]
    },
    {
      "cell_type": "code",
      "execution_count": 24,
      "metadata": {
        "id": "59qNXWTcRB-W"
      },
      "outputs": [],
      "source": [
        "#Set up model plot for RER\n",
        "\n",
        "gr <- ref_grid(rer_percent$mod$mod, cov.keep= c('time', 'percent_fat'),\n",
        "               at = list(percent_fat = c(-1, 0, 1)),\n",
        "               nesting = NULL)\n",
        "\n",
        "emm <- emmeans(gr, spec= c('percent_fat', 'time'), level= 0.95)\n",
        "\n",
        "emm_mod <- data.frame(summary(emm)) %>%\n",
        "  select(-df, -SE) %>%\n",
        "  mutate(across(c(percent_fat, time), ~ (. * ref_sd[cur_column()]) +\n",
        "           ref_means[cur_column()]),\n",
        "         # time = time * 30,\n",
        "         percent_fat = format(round(percent_fat, 1), 1)) %>%\n",
        "  mutate(across(c(emmean, lower.CL, upper.CL), ~ (. * ref_sd[c(\"post_rer\")]) +\n",
        "           ref_means[c(\"post_rer\")]))\n",
        "\n",
        "#Plot model for RER\n",
        "pmod_rer <- ggplot(emm_mod,\n",
        "       aes(y=emmean, x = time, shape = percent_fat)) +\n",
        "  geom_errorbar(\n",
        "    # aes(ymin= lower.CL, ymax= emmean, group = percent_fat),\n",
        "    aes(ymin= lower.CL, ymax= upper.CL, group = percent_fat),\n",
        "    alpha = 0.5, show.legend = F, width = 5, linewidth = 1,\n",
        "    position = position_dodge(width = 1.5, preserve = \"single\")\n",
        "    # position = position_nudge(x = 1, y = 0)\n",
        "  ) +\n",
        "  geom_line(linewidth = 1.5) +\n",
        "  geom_point(size = 6) +\n",
        "  scale_color_grey() +\n",
        "  scale_x_continuous(breaks = seq(30, 120, 30)) +\n",
        "  labs(x = \"Time (min)\",\n",
        "       y = \"Postprandial RER\") +\n",
        "  scale_y_continuous(limits = c(0.75, 0.91),\n",
        "                     breaks = seq(0.75, 0.91, 0.02)) +\n",
        "  scale_shape_manual(name = \"BF%\",\n",
        "                     guide = \"none\",\n",
        "               values = c(15,16,17)) +\n",
        "  ggprism::theme_prism(base_size = 18) +\n",
        "    theme(text=element_text(family=\"Times New Roman\"))\n"
      ]
    },
    {
      "cell_type": "markdown",
      "metadata": {
        "id": "mLmPZ7U3eFmh"
      },
      "source": [
        "### Prep Figure 2B"
      ]
    },
    {
      "cell_type": "code",
      "execution_count": 25,
      "metadata": {
        "id": "EI0vrygzdXjV"
      },
      "outputs": [],
      "source": [
        "\n",
        "#Set up model plot for CHO\n",
        "gr2 <- ref_grid(cho_percent$mod$mod, cov.keep= c('time', 'percent_fat'),\n",
        "               at = list(percent_fat = c(-1, 0, 1)),\n",
        "               nesting = NULL)\n",
        "\n",
        "emm2 <- emmeans(gr2, spec= c('percent_fat', 'time'), level= 0.95)\n",
        "\n",
        "emm_mod2 <- data.frame(summary(emm2)) %>%\n",
        "  select(-df, -SE) %>%\n",
        "  mutate(across(c(percent_fat, time), ~ (. * ref_sd[cur_column()]) +\n",
        "           ref_means[cur_column()]),\n",
        "         # time = time * 30,\n",
        "         percent_fat = format(round(percent_fat, 1), 1)) %>%\n",
        "  mutate(across(c(emmean, lower.CL, upper.CL), ~ (. * ref_sd[c(\"post_cho\")]) +\n",
        "           ref_means[c(\"post_cho\")]))\n",
        "\n",
        "my_colors <- setNames(\n",
        "  c(\"#d9d9d9\", \"#525252\", \"#000000\"),   # light gray, dark gray, black\n",
        "  levels(emm_mod2$percent_fat)     # names must match factor levels\n",
        ")\n",
        "\n",
        "#plot CHO model\n",
        "pmod_cho <- ggplot(emm_mod2,\n",
        "       aes(y=emmean, x = time, shape = percent_fat)) +\n",
        "  geom_errorbar(\n",
        "    # aes(ymin= lower.CL, ymax= emmean, group = percent_fat),\n",
        "    aes(ymin= lower.CL, ymax= upper.CL, group = percent_fat),\n",
        "    alpha = 0.5, show.legend = F, width = 5, linewidth = 1,\n",
        "    position = position_dodge(width = 2, preserve = \"single\")\n",
        "    # position = position_nudge(x = 1, y = 0)\n",
        "  ) +\n",
        "  geom_line(linewidth = 1.5) +\n",
        "  geom_point(size = 6) +\n",
        "  scale_color_manual(values = my_colors, name = NULL) +\n",
        "  scale_x_continuous(breaks = seq(0,120,30)) +\n",
        "  labs(x = \"Time (min)\",\n",
        "       y = \"Postprandial CHO \\n (g/min)\") +\n",
        "  scale_y_continuous(limits = c(0.06, 0.26),\n",
        "                     breaks = seq(0.06, 0.26, 0.04)) +\n",
        "  scale_shape_manual(name = NULL, #\"BF%\",\n",
        "                     guide = \"none\",\n",
        "               values = c(15,16,17)) +\n",
        "  ggprism::theme_prism(base_size = 18) +\n",
        "    theme(text=element_text(family=\"Times New Roman\"))"
      ]
    },
    {
      "cell_type": "markdown",
      "metadata": {
        "id": "0SVcsIPOePBd"
      },
      "source": [
        "Save Figures 2A and 2B"
      ]
    },
    {
      "cell_type": "code",
      "execution_count": 26,
      "metadata": {
        "id": "KSe6zYCPdbC1",
        "colab": {
          "base_uri": "https://localhost:8080/",
          "height": 52
        },
        "outputId": "e9043f9b-b9ba-4b03-9944-f40fae973259"
      },
      "outputs": [
        {
          "output_type": "display_data",
          "data": {
            "text/html": [
              "<strong>agg_record_1947627031:</strong> 2"
            ],
            "text/markdown": "**agg_record_1947627031:** 2",
            "text/latex": "\\textbf{agg\\textbackslash{}\\_record\\textbackslash{}\\_1947627031:} 2",
            "text/plain": [
              "agg_record_1947627031 \n",
              "                    2 "
            ]
          },
          "metadata": {}
        },
        {
          "output_type": "display_data",
          "data": {
            "text/html": [
              "<strong>agg_record_1947627031:</strong> 2"
            ],
            "text/markdown": "**agg_record_1947627031:** 2",
            "text/latex": "\\textbf{agg\\textbackslash{}\\_record\\textbackslash{}\\_1947627031:} 2",
            "text/plain": [
              "agg_record_1947627031 \n",
              "                    2 "
            ]
          },
          "metadata": {}
        }
      ],
      "source": [
        "#save figures in EPS format tweak axes, font, etc. as needed\n",
        "  #combine into one panel\n",
        "grDevices::cairo_ps(filename = \"results/cho_mod.eps\",\n",
        "         width = 7, height = 7, pointsize = 12,\n",
        "         fallback_resolution = 900,\n",
        "         family = \"Times\")\n",
        "print(pmod_cho)\n",
        "dev.off()\n",
        "\n",
        "grDevices::cairo_ps(filename = \"results/rer_mod.eps\",\n",
        "         width = 7, height = 7, pointsize = 12,\n",
        "         fallback_resolution = 900,\n",
        "         family = \"Times\")\n",
        "print(pmod_rer)\n",
        "dev.off()\n",
        "\n",
        "#also write data for plots in case readers/reviewers need it\n",
        "rer_fig_df <- emm_mod %>% rename(rer = emmean)\n",
        "cho_fig_df <- emm_mod2 %>% rename(cho = emmean)\n",
        "\n",
        "metflex_figs_df <- list(RER = rer_fig_df, CHO = cho_fig_df)\n",
        "writexl::write_xlsx(metflex_figs_df, \"./results/figure2_data.xlsx\")\n",
        "\n",
        "#should print out agg_record_ and a string of numbers, followed by \": 2\""
      ]
    },
    {
      "cell_type": "markdown",
      "metadata": {
        "id": "5OcAp41NcZbg"
      },
      "source": [
        "## Prep Table 2"
      ]
    },
    {
      "cell_type": "code",
      "execution_count": 27,
      "metadata": {
        "id": "kobb2a1JcY55",
        "colab": {
          "base_uri": "https://localhost:8080/"
        },
        "outputId": "ad17edcc-c4ef-4d13-cc53-956ebefbf428"
      },
      "outputs": [
        {
          "output_type": "stream",
          "name": "stderr",
          "text": [
            "\u001b[32m✔\u001b[39m Looks good!\n",
            "\n"
          ]
        }
      ],
      "source": [
        "#prep for creating tables from regression objects\n",
        "library(broom)\n",
        "if(!requireNamespace(\"broom.mixed\", quietly = TRUE)){\n",
        "  install.packages(\"broom.mixed\")\n",
        "}\n",
        "if(!requireNamespace(\"broom.helpers\", quietly = TRUE)){\n",
        "  install.packages(\"broom.helpers\")\n",
        "}\n",
        "\n",
        "#clear out gtsummary theme\n",
        "reset_gtsummary_theme()\n",
        "\n",
        "#function to explicitly report satterthwaite confidence intervals\n",
        "  #default for broom::tidy within tbl_regression does something else?\n",
        "custom_ci <- function(x, exponentiate =  FALSE, conf.level = 0.95, ...) {\n",
        "\n",
        "  col1 <- broom::tidy(x, conf.int = FALSE) %>%\n",
        "    filter(effect == \"fixed\")\n",
        "\n",
        "  parameters::ci_satterthwaite(x) %>%\n",
        "    as_tibble() %>%\n",
        "    rename_with(~str_replace(., \"CI_\", \"conf.\")) %>%\n",
        "    select(-CI) %>% rename(term = Parameter) %>%\n",
        "    left_join(col1, ., by = \"term\") %>%\n",
        "    return(.)\n",
        "}\n",
        "\n",
        "#set defaults for pvalues and confidence intervals\n",
        "my_theme <-\n",
        "  list(\n",
        "    \"tbl_regression-arg:estimate_fun\" = function(x) style_sigfig(x, digits = 3),\n",
        "    \"pkgwide-fn:pvalue_fun\" = purrr::partial(gtsummary::style_pvalue, digits = 3),\n",
        "     \"tbl_regression-arg:tidy_fun\" = custom_ci\n",
        "  )\n",
        "\n",
        "check_gtsummary_theme(my_theme)\n",
        "set_gtsummary_theme(my_theme)\n"
      ]
    },
    {
      "cell_type": "code",
      "execution_count": 28,
      "metadata": {
        "id": "aQydJO3RoCP5"
      },
      "outputs": [],
      "source": [
        "#table for BF% on RER\n",
        "rer_table <- gtsummary::tbl_regression(rer_percent$mod$mod,\n",
        "                                      show_single_row = \"sex\",\n",
        "                                      tidy_fun = custom_ci,\n",
        "                                      label = list('I(time^2)' ~ \"Time^2\",\n",
        "                                                   'I(time^2):percent_fat' ~ \"BF% x Time^2\",\n",
        "                                                   `percent_fat:time` ~ \"BF% x Time\",\n",
        "                                                   \"rer_0\" ~ \"Fasting Measure\"\n",
        "                                                   )) %>%\n",
        "  modify_table_body(~.x %>%\n",
        "                      mutate(label = var_label,\n",
        "                             variable = case_when(\n",
        "                        grepl(\"_0\", variable) ~ \"fasting\",\n",
        "                        !grepl(\"_0\", variable) ~ variable,\n",
        "                      )) %>%\n",
        "                      arrange(desc(var_type == \"interaction\"),\n",
        "                              desc(str_detect(label, \"%\")),\n",
        "                              desc(str_detect(label, \"fast\"))))\n",
        "\n",
        "\n"
      ]
    },
    {
      "cell_type": "code",
      "execution_count": 29,
      "metadata": {
        "id": "e6HWiC7KnvtB"
      },
      "outputs": [],
      "source": [
        "#table for BF% on CHO\n",
        "tbl_cho1 <- gtsummary::tbl_regression(cho_percent$mod$mod,\n",
        "                                      tidy_fun = custom_ci,\n",
        "                                      show_single_row = \"sex\",\n",
        "                                      label = list('I(time^2)' ~ \"Time^2\",\n",
        "                                                   'I(time^2):percent_fat' ~ \"BF% x Time^2\",\n",
        "                                                   `percent_fat:time` ~ \"BF% x Time\",\n",
        "                                                   \"cho_0\" ~ \"Fasting Measure\"\n",
        "                                                   )) %>%\n",
        "  modify_table_body(~.x %>%\n",
        "                      mutate(label = var_label,\n",
        "                             variable = case_when(\n",
        "                        grepl(\"_0\", variable) ~ \"fasting\",\n",
        "                        !grepl(\"_0\", variable) ~ variable,\n",
        "                      )) %>%\n",
        "                      arrange(desc(var_type == \"interaction\"),\n",
        "                              desc(str_detect(label, \"%\")),\n",
        "                              desc(str_detect(label, \"fast\"))))\n",
        "\n"
      ]
    },
    {
      "cell_type": "code",
      "execution_count": 30,
      "metadata": {
        "id": "wFqxn2IwoJ-n"
      },
      "outputs": [],
      "source": [
        "#table for CHO further adjusted for FFM\n",
        "tbl_cho1b <- gtsummary::tbl_regression(norm_cho$mod$mod,\n",
        "                                       tidy_fun = custom_ci,\n",
        "                                      show_single_row = \"sex\",\n",
        "                                      label = list('I(time^2)' ~ \"Time^2\",\n",
        "                                                   'I(time^2):percent_fat' ~ \"BF% x Time^2\",\n",
        "                                                   `percent_fat:time` ~ \"BF% x Time\",\n",
        "                                                   \"cho_0\" ~ \"Fasting Measure\"\n",
        "                                                   )) %>%\n",
        "  modify_table_body(~.x %>%\n",
        "                      mutate(label = var_label,\n",
        "                             variable = case_when(\n",
        "                        grepl(\"_0\", variable) ~ \"fasting\",\n",
        "                        !grepl(\"_0\", variable) ~ variable,\n",
        "                      )) %>%\n",
        "                      arrange(desc(var_type == \"interaction\"),\n",
        "                              desc(str_detect(label, \"%\")),\n",
        "                              desc(str_detect(label, \"fast\"))))"
      ]
    },
    {
      "cell_type": "code",
      "execution_count": 31,
      "metadata": {
        "id": "KWf-Bzx7o6Vy"
      },
      "outputs": [],
      "source": [
        "#Prep Table 2 footnote\n",
        "post_sd <- read_csv(\"./analysis/analytic_sample_mean_sd.csv\",\n",
        "                         show_col_types = F) %>%\n",
        "  filter(grepl(\"post\", var)) %>%\n",
        "  select(var, ref_sd) %>%\n",
        "  mutate(ref_sd = round(ref_sd, digits = 3)) %>%\n",
        "  pivot_wider(names_from = \"var\", values_from = \"ref_sd\")\n",
        "\n",
        "  #data on covar SDs\n",
        "covar_sd <- read_csv(\"./analysis/analytic_sample_mean_sd.csv\",\n",
        "                         show_col_types = F) %>%\n",
        "  filter(!grepl(\"post\", var)) %>%\n",
        "  select(var, ref_sd) %>%\n",
        "  mutate(ref_sd = round(ref_sd, digits = 3)) %>%\n",
        "  pivot_wider(names_from = \"var\", values_from = \"ref_sd\")"
      ]
    },
    {
      "cell_type": "markdown",
      "metadata": {
        "id": "zCSZXKtx0Ltr"
      },
      "source": [
        "# Results"
      ]
    },
    {
      "cell_type": "markdown",
      "metadata": {
        "id": "9X-CpnWygkPD"
      },
      "source": [
        "Aside from slight formatting changes (rounding, bolded p-values, etc.), the data in the tables and figures below should be identical to those in the manuscript. To see table columns corretly, you may have to close the left side pane, view results on a desktop or laptop, or both."
      ]
    },
    {
      "cell_type": "markdown",
      "metadata": {
        "id": "Z0BUXFAcBb11"
      },
      "source": [
        "## Table 1"
      ]
    },
    {
      "cell_type": "code",
      "execution_count": 32,
      "metadata": {
        "collapsed": true,
        "id": "y-BvuNEvj6lc",
        "colab": {
          "base_uri": "https://localhost:8080/",
          "height": 729
        },
        "outputId": "70bcbbf8-ea53-4804-cf27-f295f8e2650f"
      },
      "outputs": [
        {
          "output_type": "display_data",
          "data": {
            "text/plain": [
              "\n",
              "\n",
              "|Variable                         |All (n = 27)        |NW (n = 12)        |OWOB (n = 15)       |p      |Association with BF% |\n",
              "|:--------------------------------|:-------------------|:------------------|:-------------------|:------|:--------------------|\n",
              "|Female, n (%)                    |15 (55.6)           |6 (50.0)           |9 (60.0)            |0.897  |NA                   |\n",
              "|NIH Race/Ethnicity (%)           |                    |                   |                    |0.328  |NA                   |\n",
              "|Black                            |7 (25.9)            |2 (16.7)           |5 (33.3)            |       |NA                   |\n",
              "|Hispanic or Latino               |1 (3.7)             |0 (0.0)            |1 (6.7)             |       |NA                   |\n",
              "|Unknown                          |1 (3.7)             |0 (0.0)            |1 (6.7)             |       |NA                   |\n",
              "|white                            |18 (66.7)           |10 (83.3)          |8 (53.3)            |       |NA                   |\n",
              "|Age (yrs)                        |22 [19, 27]         |19 [19, 22]        |25 [23, 29.5]       |0.002  |r=0.081; p=0.688     |\n",
              "|Height (m)                       |1.71 (0.09)         |1.7 (0.08)         |1.71 (0.1)          |0.641  |r=-0.415; p=0.032    |\n",
              "|Weight (kg)                      |73.0 [66.6, 90.0]   |66.6 [61.5, 71.4]  |89.9 [75.5, 96.9]   |<0.001 |r=0.257; p=0.195     |\n",
              "|BMI (kg/m2)                      |26.2 [24.1, 31.4]   |23.7 [21.8, 24.4]  |31.2 [27.2, 32.6]   |<0.001 |r=0.582; p=0.001     |\n",
              "|Body Composition                 |                    |                   |                    |       |                     |\n",
              "|Fat Mass (kg)                    |24.2 (9.6)          |17 (4.6)           |30 (8.5)            |<0.001 |r=0.854; p<0.001     |\n",
              "|Fat Free Mass (kg)               |51.7 (10.9)         |46.5 (8.3)         |55.8 (11.2)         |0.025  |r=-0.351; p=0.072    |\n",
              "|Body Fat (%)                     |30.4 (8.7)          |26 (7.8)           |33.8 (8)            |0.017  |NA                   |\n",
              "|VAT Volume (in3)                 |22.4 [7.3, 50.8]    |8.7 [5.2, 13.5]    |44.6 [26.2, 62.4]   |0.002  |r=0.355; p=0.069     |\n",
              "|Resting Metabolic Rate (kcal/d)  |1709.8 (287.9)      |1627.3 (260.9)     |1775.7 (299.9)      |0.188  |r=-0.25; p=0.208     |\n",
              "|Respiratory Exchange Ratio (RER) |0.8 (0.06)          |0.78 (0.06)        |0.8 (0.05)          |0.413  |r=-0.129; p=0.520    |\n",
              "|Carbohydrate Oxidation (g/min)   |0.1 (0.07)          |0.08 (0.06)        |0.12 (0.07)         |0.198  |r=-0.16; p=0.424     |\n",
              "|Lipid Oxidation (g/min)          |0.08 (0.02)         |0.09 (0.03)        |0.08 (0.02)         |0.733  |r=-0.031; p=0.878    |\n",
              "|VO2peak (mL/kg/min)              |34.1 (8.8)          |40 (8.3)           |29.5 (6.2)          |0.001  |r=-0.784; p<0.001    |\n",
              "|VO2peak (L/min)                  |2.6 (0.6)           |2.7 (0.68)         |2.6 (0.54)          |0.736  |r=-0.66; p<0.001     |\n",
              "|Blood Glucose (mg/dL)            |100 (8)             |98 (12)            |101 (5)             |0.315  |r=0.036; p=0.858     |\n",
              "|Serum Insulin (microIU/mL)       |14.2 (8.1)          |11.7 (5.8)         |16.3 (9.4)          |0.170  |r=0.404; p=0.050     |\n",
              "|NEFA (mEq/L)                     |0.42 [0.28, 0.49]   |0.34 [0.25, 0.47]  |0.43 [0.32, 0.49]   |0.344  |r=0.339; p=0.098     |\n",
              "|Serum Lactate (mM)               |1.58 (0.42)         |1.43 (0.33)        |1.72 (0.45)         |0.090  |r=0.237; p=0.266     |\n",
              "|HbA1c (%)                        |5.1 [4.8, 5.25]     |5.05 [4.8, 5.12]   |5.2 [4.85, 5.4]     |0.154  |r=-0.221; p=0.269    |\n",
              "|Total Cholesterol (mg/dL)        |160.4 (33.9)        |139 (22.8)         |175.6 (32.7)        |0.006  |r=0.198; p=0.353     |\n",
              "|HDL (mg/dL)                      |51.0 [47.8, 59.5]   |52.0 [46.2, 64.8]  |50.5 [48.2, 56.5]   |0.769  |r=0.086; p=0.691     |\n",
              "|LDL (mg/dL)                      |92.3 (29.6)         |71.1 (20.8)        |102.9 (28)          |0.016  |r=0.085; p=0.715     |\n",
              "|Triglycerides (mg/dL)            |74.5 [66.2, 93.0]   |73.0 [44.5, 76.0]  |82.0 [67.8, 96.8]   |0.135  |r=-0.016; p=0.940    |\n",
              "|Matsuda Index                    |4.24 [2.58, 6.00]   |5.35 [4.03, 7.48]  |3.06 [2.46, 4.78]   |0.082  |r=-0.616; p=0.001    |\n",
              "|HOMA-IR                          |3.1 [2.2, 4.3]      |2.5 [1.9, 3.5]     |3.7 [2.9, 4.6]      |0.207  |r=0.398; p=0.054     |\n",
              "|AdipIR (OGTT)                    |7.7 [4.4, 12.2]     |4.2 [3.0, 10.1]    |8.9 [6.7, 30.4]     |0.035  |r=0.481; p=0.017     |\n",
              "|AdipIR (fasting)                 |5.2 [3.0, 6.9]      |3.5 [2.4, 5.9]     |5.3 [4.1, 9.3]      |0.167  |r=0.443; p=0.030     |\n",
              "|Adiponectin (ng/mL)              |4613 [3955, 6013]   |4613 [4048, 6874]  |4540 [3307, 5426]   |0.467  |r=-0.151; p=0.470    |\n",
              "|Leptin (pg/mL)                   |118.1 [53.8, 148.5] |89.8 [36.9, 124.1] |134.0 [84.3, 198.2] |0.085  |r=0.817; p<0.001     |\n",
              "|CRP (mg/L)                       |0.48 [0.26, 1.2]    |0.48 [0.23, 1.1]   |0.49 [0.29, 1.1]    |0.727  |r=0.091; p=0.664     |"
            ]
          },
          "metadata": {}
        }
      ],
      "source": [
        "#Table 1 and summary measures\n",
        "knitr::kable(table1, row.names = F)"
      ]
    },
    {
      "cell_type": "code",
      "execution_count": 33,
      "metadata": {
        "id": "h4yLYX80KEEr",
        "colab": {
          "base_uri": "https://localhost:8080/",
          "height": 399
        },
        "outputId": "fcdaa082-1789-4c5b-8089-f7e988c541d1"
      },
      "outputs": [
        {
          "output_type": "display_data",
          "data": {
            "text/plain": [
              "Means and SD during the OGTT"
            ]
          },
          "metadata": {}
        },
        {
          "output_type": "display_data",
          "data": {
            "text/plain": [
              "\n",
              "\n",
              "|Time |Glucose                  |Insulin                 |NEFA                  |Lactate                 |\n",
              "|:----|:------------------------|:-----------------------|:---------------------|:-----------------------|\n",
              "|0    |99.7 ± 8.5               |14.17 ± 8.11            |0.41 ± 0.19           |1.59 ± 0.42             |\n",
              "|30   |139.9 ± 21 (p< 0.001)    |79.91 ± 75.14 (p<0.001) |0.28 ± 0.13 (p<0.001) |1.48 ± 0.37 (p = 0.51)  |\n",
              "|60   |124.9 ± 29.6 (p< 0.001)  |77.94 ± 54.18 (p<0.001) |0.15 ± 0.08 (p<0.001) |1.93 ± 0.33 (p<0.001)   |\n",
              "|90   |115.3 ± 25.5 (p = 0.007) |63.17 ± 47.66 (p<0.001) |0.11 ± 0.05 (p<0.001) |1.84 ± 0.28 (p = 0.007) |\n",
              "|120  |109 ± 21.7 (p = 0.214)   |54.95 ± 36.43 (p<0.001) |0.09 ± 0.04 (p<0.001) |1.71 ± 0.26 (p = 0.401) |\n",
              "|AUC  |1500 ± 127               |212.5 ± 122             |6.1 ± 2.9             |23.8 ± 6.2              |"
            ]
          },
          "metadata": {}
        },
        {
          "output_type": "display_data",
          "data": {
            "text/plain": [
              "\n",
              "\n",
              "|Time |RER                       |CHOX                      |FOX                       |\n",
              "|:----|:-------------------------|:-------------------------|:-------------------------|\n",
              "|0    |0.795 ± 0.055             |0.102 ± 0.071             |0.084 ± 0.024             |\n",
              "|30   |0.806 ± 0.052 (p = 0.493) |0.125 ± 0.071 (p = 0.083) |0.086 ± 0.024 (p = 0.927) |\n",
              "|60   |0.832 ± 0.051 (p<0.001)   |0.157 ± 0.063 (p<0.001)   |0.078 ± 0.027 (p = 0.383) |\n",
              "|90   |0.839 ± 0.044 (p<0.001)   |0.16 ± 0.049 (p<0.001)    |0.073 ± 0.026 (p = 0.011) |\n",
              "|120  |0.845 ± 0.048 (p<0.001)   |0.166 ± 0.061 (p<0.001)   |0.068 ± 0.023 (p<0.001)   |\n",
              "|AUC  |11.9 ± 0.8                |1.5 ± 1.1                 |1.3 ± 0.4                 |"
            ]
          },
          "metadata": {}
        },
        {
          "output_type": "display_data",
          "data": {
            "text/plain": [
              "P-values indicate a significant change from fasting"
            ]
          },
          "metadata": {}
        }
      ],
      "source": [
        "#split into two smaller tables for better printing\n",
        "IRdisplay::display_text(\"Means and SD during the OGTT\")\n",
        "knitr::kable(change_res[,1:5], row.names = F)\n",
        "knitr::kable(change_res[,c(1, 6:8)], row.names = F)\n",
        "IRdisplay::display_text(\"P-values indicate a significant change from fasting\")"
      ]
    },
    {
      "cell_type": "code",
      "execution_count": 34,
      "metadata": {
        "id": "XCuGeYeb35wP",
        "colab": {
          "base_uri": "https://localhost:8080/",
          "height": 214
        },
        "outputId": "ab65dac0-de2c-4edd-88b8-dc67154dcb8b"
      },
      "outputs": [
        {
          "output_type": "display_data",
          "data": {
            "text/markdown": "BF% on RER: $b = -0.01$, 95\\% CI $[-0.05, 0.03]$, $t(25) = -0.65$, $p = .520$"
          },
          "metadata": {}
        },
        {
          "output_type": "display_data",
          "data": {
            "text/markdown": "BF% on CHOX: $b = -0.02$, 95\\% CI $[-0.07, 0.03]$, $t(25) = -0.81$, $p = .424$"
          },
          "metadata": {}
        },
        {
          "output_type": "display_data",
          "data": {
            "text/markdown": "BF% on FOX: $b = 0.00$, 95\\% CI $[-0.02, 0.02]$, $t(25) = -0.15$, $p = .878$"
          },
          "metadata": {}
        },
        {
          "output_type": "display_data",
          "data": {
            "text/markdown": "BF% on Glucose: $b = 0.53$, 95\\% CI $[-5.50, 6.56]$, $t(25) = 0.18$, $p = .858$"
          },
          "metadata": {}
        },
        {
          "output_type": "display_data",
          "data": {
            "text/markdown": "BF% on Insulin: $b = 5.60$, 95\\% CI $[-0.01, 11.21]$, $t(22) = 2.07$, $p = .050$"
          },
          "metadata": {}
        },
        {
          "output_type": "display_data",
          "data": {
            "text/markdown": "BF% on NEFAs: $b = 0.11$, 95\\% CI $[-0.02, 0.25]$, $t(23) = 1.73$, $p = .098$"
          },
          "metadata": {}
        },
        {
          "output_type": "display_data",
          "data": {
            "text/markdown": "BF% on Lactate: $b = 0.17$, 95\\% CI $[-0.14, 0.47]$, $t(22) = 1.14$, $p = .266$"
          },
          "metadata": {}
        }
      ],
      "source": [
        "#no effect of BF% on AUC\n",
        "IRdisplay::display_markdown(glue::glue(\"BF% on RER: {auc_rer$percent_fat}\"))\n",
        "IRdisplay::display_markdown(glue::glue(\"BF% on CHOX: {auc_cho$percent_fat}\"))\n",
        "IRdisplay::display_markdown(glue::glue(\"BF% on FOX: {auc_fox$percent_fat}\"))\n",
        "IRdisplay::display_markdown(glue::glue(\"BF% on Glucose: {auc_gluc$percent_fat}\"))\n",
        "IRdisplay::display_markdown(glue::glue(\"BF% on Insulin: {auc_ins$percent_fat}\")) #p=0.0502\n",
        "IRdisplay::display_markdown(glue::glue(\"BF% on NEFAs: {auc_nefa$percent_fat}\"))\n",
        "IRdisplay::display_markdown(glue::glue(\"BF% on Lactate: {auc_lactate$percent_fat}\"))"
      ]
    },
    {
      "cell_type": "markdown",
      "metadata": {
        "id": "QLFTKGk_BtmW"
      },
      "source": [
        "## Figure 1"
      ]
    },
    {
      "cell_type": "code",
      "execution_count": 35,
      "metadata": {
        "id": "f0oKFa6HBrvY",
        "colab": {
          "base_uri": "https://localhost:8080/",
          "height": 437
        },
        "outputId": "c853bebc-df71-4537-a75e-aa96e56426a2"
      },
      "outputs": [
        {
          "output_type": "display_data",
          "data": {
            "text/plain": [
              "plot without title"
            ],
            "image/png": "[encoded data removed]"
          },
          "metadata": {
            "image/png": {
              "width": 420,
              "height": 420
            }
          }
        }
      ],
      "source": [
        "fig1\n",
        "#Note: This is not a perfect replication of Figure 1\n",
        "  #Analyses and figure preparation were done in OriginPro (see Methods for details)"
      ]
    },
    {
      "cell_type": "markdown",
      "metadata": {
        "id": "4f1vHiceBv70"
      },
      "source": [
        "## Table 2"
      ]
    },
    {
      "cell_type": "code",
      "execution_count": 36,
      "metadata": {
        "id": "9_EGsaCcn-R9",
        "colab": {
          "base_uri": "https://localhost:8080/",
          "height": 364
        },
        "outputId": "54c3d368-4f28-4b50-dae7-3104e29b9606"
      },
      "outputs": [
        {
          "output_type": "display_data",
          "data": {
            "text/plain": [
              "Models are arranged RER, CHO, and CHO w/FFM"
            ]
          },
          "metadata": {}
        },
        {
          "output_type": "display_data",
          "data": {
            "text/plain": [
              "\n",
              "\n",
              "|**Characteristic** |**Beta** |**95% CI**     |**p-value** |**Beta** |**95% CI**     |**p-value** |**Beta** |**95% CI**     |**p-value** |\n",
              "|:------------------|:--------|:--------------|:-----------|:--------|:--------------|:-----------|:--------|:--------------|:-----------|\n",
              "|BF% x Time^2       |-0.168   |-0.308, -0.029 |0.019       |-0.169   |-0.314, -0.024 |0.023       |-0.169   |-0.314, -0.024 |0.023       |\n",
              "|BF% x Time         |0.074    |-0.037, 0.185  |0.187       |0.078    |-0.038, 0.194  |0.182       |0.078    |-0.038, 0.194  |0.182       |\n",
              "|BF%                |0.652    |0.087, 1.22    |0.026       |0.502    |-0.086, 1.09   |0.090       |0.701    |-0.020, 1.42   |0.056       |\n",
              "|Time^2             |-0.197   |-0.336, -0.059 |0.006       |-0.210   |-0.354, -0.066 |0.005       |-0.210   |-0.354, -0.066 |0.005       |\n",
              "|Time               |0.330    |0.220, 0.440   |<0.001      |0.255    |0.140, 0.369   |<0.001      |0.255    |0.140, 0.369   |<0.001      |\n",
              "|Fasting Measure    |0.803    |0.480, 1.13    |<0.001      |0.793    |0.387, 1.20    |<0.001      |0.700    |0.248, 1.15    |0.005       |\n",
              "|Sex (Male)         |0.556    |-0.546, 1.66   |0.300       |0.421    |-0.734, 1.57   |0.451       |0.458    |-0.704, 1.62   |0.414       |\n",
              "|Age                |-0.095   |-0.413, 0.223  |0.536       |-0.070   |-0.404, 0.263  |0.661       |-0.139   |-0.503, 0.225  |0.429       |\n",
              "|Matsuda            |0.505    |0.126, 0.883   |0.012       |0.558    |0.162, 0.954   |0.009       |0.590    |0.187, 0.993   |0.007       |\n",
              "|AdipIR (OGTT)      |0.201    |-0.160, 0.563  |0.255       |0.123    |-0.257, 0.503  |0.504       |0.069    |-0.328, 0.467  |0.715       |\n",
              "|VAT volume^(1/3)   |-0.504   |-1.02, 0.012   |0.055       |-0.224   |-0.763, 0.314  |0.390       |-0.368   |-0.987, 0.250  |0.224       |\n",
              "|Fat-free Mass      |NA       |NA             |NA          |NA       |NA             |NA          |0.305    |-0.331, 0.940  |0.323       |"
            ]
          },
          "metadata": {}
        },
        {
          "output_type": "display_data",
          "data": {
            "text/plain": [
              "A one-unit increase in time represents 30 minutes. \n",
              "A 1-SD increase in each covariate corresponds to  a 1-SD increase in postprandial RER (0.044) or CHO (0.055 g/min).\n",
              "Covariate SDs: Fasting RER: 0.055; Fasting CHO: 0.071; FFM: 10.9; See Table 3 for other relevant SDs."
            ]
          },
          "metadata": {}
        }
      ],
      "source": [
        "#Table 2\n",
        "#knitr::kable(rer_table)\n",
        "percent_tables <- gtsummary::tbl_merge(tbls = list(rer_table, tbl_cho1, tbl_cho1b),\n",
        "                                   tab_spanner = c(\"RER\", \"CHO\", \"CHO with FFM\")) %>%\n",
        "  modify_table_body(~.x %>%\n",
        "                      arrange(desc(str_detect(label, \"%\")),\n",
        "                              desc(str_detect(label, \"Time\")),\n",
        "                              desc(str_detect(label, \"Fasting Measure\"))))\n",
        "\n",
        "footnote_post_sd <- paste0(\"A one-unit increase in time represents 30 minutes. \",\n",
        "                           \"\\nA 1-SD increase in each covariate corresponds to \",\n",
        "                           \" a 1-SD increase in postprandial RER (\",\n",
        "                           post_sd$post_rer, \") or CHO (\", post_sd$post_cho, \" g/min).\",\n",
        "                           \"\\nCovariate SDs: Fasting RER: \", covar_sd$rer_0,\n",
        "                           \"; Fasting CHO: \", covar_sd$cho_0,\n",
        "                           \"; FFM: \", round(covar_sd$ffm, 1),\n",
        "                           \"; See Table 3 for other relevant SDs.\")\n",
        "\n",
        "IRdisplay::display_text(\"Models are arranged RER, CHO, and CHO w/FFM\")\n",
        "knitr::kable(percent_tables)\n",
        "IRdisplay::display_text(footnote_post_sd)\n"
      ]
    },
    {
      "cell_type": "code",
      "execution_count": 37,
      "metadata": {
        "id": "fH-Ygi8RBWJ-",
        "colab": {
          "base_uri": "https://localhost:8080/",
          "height": 437
        },
        "outputId": "a8e62b7f-b261-4274-857b-8eaeff78e694"
      },
      "outputs": [
        {
          "output_type": "display_data",
          "data": {
            "text/plain": [
              "plot without title"
            ],
            "image/png": "[encoded data removed]"
          },
          "metadata": {
            "image/png": {
              "width": 420,
              "height": 420
            }
          }
        }
      ],
      "source": [
        "fig1"
      ]
    },
    {
      "cell_type": "markdown",
      "source": [
        "## Figure 2"
      ],
      "metadata": {
        "id": "6nSesBxdR246"
      }
    },
    {
      "cell_type": "code",
      "execution_count": 38,
      "metadata": {
        "id": "LdFtamFfX7HE",
        "colab": {
          "base_uri": "https://localhost:8080/",
          "height": 437
        },
        "outputId": "82931b0d-b1e0-464b-b6f1-41f3ff3b77bf"
      },
      "outputs": [
        {
          "output_type": "display_data",
          "data": {
            "text/plain": [
              "plot without title"
            ],
            "image/png": "[encoded data removed]"
          },
          "metadata": {
            "image/png": {
              "width": 420,
              "height": 420
            }
          }
        }
      ],
      "source": [
        "pmod_rer"
      ]
    },
    {
      "cell_type": "code",
      "execution_count": 39,
      "metadata": {
        "id": "OMW-fjsoX8Tj",
        "colab": {
          "base_uri": "https://localhost:8080/",
          "height": 437
        },
        "outputId": "91b05706-b9d3-4126-eabc-bca9a4b4ddb9"
      },
      "outputs": [
        {
          "output_type": "display_data",
          "data": {
            "text/plain": [
              "plot without title"
            ],
            "image/png": "[encoded data removed]"
          },
          "metadata": {
            "image/png": {
              "width": 420,
              "height": 420
            }
          }
        }
      ],
      "source": [
        "pmod_cho"
      ]
    },
    {
      "cell_type": "markdown",
      "metadata": {
        "id": "IXizspDTOD8B"
      },
      "source": [
        "# Supplemental Results"
      ]
    },
    {
      "cell_type": "markdown",
      "source": [
        "## Bootstrapping"
      ],
      "metadata": {
        "id": "xUtB2gnqY2Y2"
      }
    },
    {
      "cell_type": "code",
      "source": [
        "if(!requireNamespace(\"lmeresampler\", quietly = T)){\n",
        "install.packages(\"lmeresampler\")\n",
        "}\n",
        "\n",
        "#bootstrap model for RER\n",
        "rer_boot <- lme4::lmer(post_rer ~ I(time^2) * percent_fat + time * percent_fat + rer_0 +\n",
        "    sex + age_yrs + matsuda + adip_ir_ogtt + vat_vol_trfm + (1 |\n",
        "    id), data = analysis)\n",
        "\n",
        "resample_rer <- lmeresampler::bootstrap(rer_boot, .f = fixef, type = \"case\", B = 1000, resample = c(T, F))\n",
        "print(resample_rer)\n",
        "\n",
        "confint(resample_rer) %>%\n",
        "  filter(type == \"perc\")\n",
        "\n"
      ],
      "metadata": {
        "id": "ZeoOY4lNQAWF",
        "colab": {
          "base_uri": "https://localhost:8080/",
          "height": 804
        },
        "outputId": "54e81f3f-2176-42c4-898e-5cf3f3298b0c"
      },
      "execution_count": 40,
      "outputs": [
        {
          "output_type": "stream",
          "name": "stdout",
          "text": [
            "Bootstrap type: case \n",
            "\n",
            "Number of resamples: 1000 \n",
            "\n",
            "                    term    observed    rep.mean         se         bias\n",
            "1            (Intercept) -0.11340026 -0.14373621 0.33031630 -0.030335948\n",
            "2              I(time^2) -0.19737844 -0.19500643 0.06782340  0.002372010\n",
            "3            percent_fat  0.65242678  0.68568271 0.33171480  0.033255928\n",
            "4                   time  0.33019867  0.33265191 0.06028311  0.002453241\n",
            "5                  rer_0  0.80301483  0.77626249 0.16110277 -0.026752337\n",
            "6                   sexM  0.55633390  0.64789464 0.66402667  0.091560733\n",
            "7                age_yrs -0.09495809 -0.08893332 0.20227539  0.006024771\n",
            "8                matsuda  0.50456666  0.54912118 0.29394601  0.044554525\n",
            "9           adip_ir_ogtt  0.20140393  0.26432776 0.30765923  0.062923827\n",
            "10          vat_vol_trfm -0.50381754 -0.54827113 0.28390400 -0.044453595\n",
            "11 I(time^2):percent_fat -0.16813467 -0.17038555 0.06118768 -0.002250886\n",
            "12      percent_fat:time  0.07423099  0.07788892 0.06809602  0.003657927\n",
            "\n",
            "There were 0 messages, 0 warnings, and 0 errors.\n"
          ]
        },
        {
          "output_type": "display_data",
          "data": {
            "text/html": [
              "<table class=\"dataframe\">\n",
              "<caption>A tibble: 12 × 6</caption>\n",
              "<thead>\n",
              "\t<tr><th scope=col>term</th><th scope=col>estimate</th><th scope=col>lower</th><th scope=col>upper</th><th scope=col>type</th><th scope=col>level</th></tr>\n",
              "\t<tr><th scope=col>&lt;chr&gt;</th><th scope=col>&lt;dbl&gt;</th><th scope=col>&lt;dbl&gt;</th><th scope=col>&lt;dbl&gt;</th><th scope=col>&lt;chr&gt;</th><th scope=col>&lt;dbl&gt;</th></tr>\n",
              "</thead>\n",
              "<tbody>\n",
              "\t<tr><td>(Intercept)          </td><td>-0.11340026</td><td>-0.74526996</td><td> 0.54587922</td><td>perc</td><td>0.95</td></tr>\n",
              "\t<tr><td>I(time^2)            </td><td>-0.19737844</td><td>-0.32177393</td><td>-0.06426771</td><td>perc</td><td>0.95</td></tr>\n",
              "\t<tr><td>percent_fat          </td><td> 0.65242678</td><td> 0.08714191</td><td> 1.35603180</td><td>perc</td><td>0.95</td></tr>\n",
              "\t<tr><td>time                 </td><td> 0.33019867</td><td> 0.22013312</td><td> 0.45364036</td><td>perc</td><td>0.95</td></tr>\n",
              "\t<tr><td>rer_0                </td><td> 0.80301483</td><td> 0.41704874</td><td> 1.04439694</td><td>perc</td><td>0.95</td></tr>\n",
              "\t<tr><td>sexM                 </td><td> 0.55633390</td><td>-0.59859908</td><td> 1.89749943</td><td>perc</td><td>0.95</td></tr>\n",
              "\t<tr><td>age_yrs              </td><td>-0.09495809</td><td>-0.47389712</td><td> 0.23333661</td><td>perc</td><td>0.95</td></tr>\n",
              "\t<tr><td>matsuda              </td><td> 0.50456666</td><td> 0.10853995</td><td> 1.17036707</td><td>perc</td><td>0.95</td></tr>\n",
              "\t<tr><td>adip_ir_ogtt         </td><td> 0.20140393</td><td>-0.25410157</td><td> 0.83368675</td><td>perc</td><td>0.95</td></tr>\n",
              "\t<tr><td>vat_vol_trfm         </td><td>-0.50381754</td><td>-1.03523582</td><td> 0.05622075</td><td>perc</td><td>0.95</td></tr>\n",
              "\t<tr><td>I(time^2):percent_fat</td><td>-0.16813467</td><td>-0.29772219</td><td>-0.06104147</td><td>perc</td><td>0.95</td></tr>\n",
              "\t<tr><td>percent_fat:time     </td><td> 0.07423099</td><td>-0.05998585</td><td> 0.20506148</td><td>perc</td><td>0.95</td></tr>\n",
              "</tbody>\n",
              "</table>\n"
            ],
            "text/markdown": "\nA tibble: 12 × 6\n\n| term &lt;chr&gt; | estimate &lt;dbl&gt; | lower &lt;dbl&gt; | upper &lt;dbl&gt; | type &lt;chr&gt; | level &lt;dbl&gt; |\n|---|---|---|---|---|---|\n| (Intercept)           | -0.11340026 | -0.74526996 |  0.54587922 | perc | 0.95 |\n| I(time^2)             | -0.19737844 | -0.32177393 | -0.06426771 | perc | 0.95 |\n| percent_fat           |  0.65242678 |  0.08714191 |  1.35603180 | perc | 0.95 |\n| time                  |  0.33019867 |  0.22013312 |  0.45364036 | perc | 0.95 |\n| rer_0                 |  0.80301483 |  0.41704874 |  1.04439694 | perc | 0.95 |\n| sexM                  |  0.55633390 | -0.59859908 |  1.89749943 | perc | 0.95 |\n| age_yrs               | -0.09495809 | -0.47389712 |  0.23333661 | perc | 0.95 |\n| matsuda               |  0.50456666 |  0.10853995 |  1.17036707 | perc | 0.95 |\n| adip_ir_ogtt          |  0.20140393 | -0.25410157 |  0.83368675 | perc | 0.95 |\n| vat_vol_trfm          | -0.50381754 | -1.03523582 |  0.05622075 | perc | 0.95 |\n| I(time^2):percent_fat | -0.16813467 | -0.29772219 | -0.06104147 | perc | 0.95 |\n| percent_fat:time      |  0.07423099 | -0.05998585 |  0.20506148 | perc | 0.95 |\n\n",
            "text/latex": "A tibble: 12 × 6\n\\begin{tabular}{llllll}\n term & estimate & lower & upper & type & level\\\\\n <chr> & <dbl> & <dbl> & <dbl> & <chr> & <dbl>\\\\\n\\hline\n\t (Intercept)           & -0.11340026 & -0.74526996 &  0.54587922 & perc & 0.95\\\\\n\t I(time\\textasciicircum{}2)             & -0.19737844 & -0.32177393 & -0.06426771 & perc & 0.95\\\\\n\t percent\\_fat           &  0.65242678 &  0.08714191 &  1.35603180 & perc & 0.95\\\\\n\t time                  &  0.33019867 &  0.22013312 &  0.45364036 & perc & 0.95\\\\\n\t rer\\_0                 &  0.80301483 &  0.41704874 &  1.04439694 & perc & 0.95\\\\\n\t sexM                  &  0.55633390 & -0.59859908 &  1.89749943 & perc & 0.95\\\\\n\t age\\_yrs               & -0.09495809 & -0.47389712 &  0.23333661 & perc & 0.95\\\\\n\t matsuda               &  0.50456666 &  0.10853995 &  1.17036707 & perc & 0.95\\\\\n\t adip\\_ir\\_ogtt          &  0.20140393 & -0.25410157 &  0.83368675 & perc & 0.95\\\\\n\t vat\\_vol\\_trfm          & -0.50381754 & -1.03523582 &  0.05622075 & perc & 0.95\\\\\n\t I(time\\textasciicircum{}2):percent\\_fat & -0.16813467 & -0.29772219 & -0.06104147 & perc & 0.95\\\\\n\t percent\\_fat:time      &  0.07423099 & -0.05998585 &  0.20506148 & perc & 0.95\\\\\n\\end{tabular}\n",
            "text/plain": [
              "                      term                  estimate    lower       upper      \n",
              "(Intercept)           (Intercept)           -0.11340026 -0.74526996  0.54587922\n",
              "I(time^2)             I(time^2)             -0.19737844 -0.32177393 -0.06426771\n",
              "percent_fat           percent_fat            0.65242678  0.08714191  1.35603180\n",
              "time                  time                   0.33019867  0.22013312  0.45364036\n",
              "rer_0                 rer_0                  0.80301483  0.41704874  1.04439694\n",
              "sexM                  sexM                   0.55633390 -0.59859908  1.89749943\n",
              "age_yrs               age_yrs               -0.09495809 -0.47389712  0.23333661\n",
              "matsuda               matsuda                0.50456666  0.10853995  1.17036707\n",
              "adip_ir_ogtt          adip_ir_ogtt           0.20140393 -0.25410157  0.83368675\n",
              "vat_vol_trfm          vat_vol_trfm          -0.50381754 -1.03523582  0.05622075\n",
              "I(time^2):percent_fat I(time^2):percent_fat -0.16813467 -0.29772219 -0.06104147\n",
              "percent_fat:time      percent_fat:time       0.07423099 -0.05998585  0.20506148\n",
              "                      type level\n",
              "(Intercept)           perc 0.95 \n",
              "I(time^2)             perc 0.95 \n",
              "percent_fat           perc 0.95 \n",
              "time                  perc 0.95 \n",
              "rer_0                 perc 0.95 \n",
              "sexM                  perc 0.95 \n",
              "age_yrs               perc 0.95 \n",
              "matsuda               perc 0.95 \n",
              "adip_ir_ogtt          perc 0.95 \n",
              "vat_vol_trfm          perc 0.95 \n",
              "I(time^2):percent_fat perc 0.95 \n",
              "percent_fat:time      perc 0.95 "
            ]
          },
          "metadata": {}
        }
      ]
    },
    {
      "cell_type": "markdown",
      "source": [
        "## Overfitting"
      ],
      "metadata": {
        "id": "93j5veGrjGf3"
      }
    },
    {
      "cell_type": "code",
      "source": [
        "#examine potential overfitting by using models with fewer covariates\n",
        "  #(just sex, Mastuda, and fasting measure)\n",
        "rer_percent_simple <- linear_quad_models(adiposity = \"percent_fat\",\n",
        "                   outcome = \"post_rer\",\n",
        "                   baseline = \"rer_0\",\n",
        "                   simple_covars = T,\n",
        "                   ffm = F)\n",
        "\n",
        "#effect of BF% on postprandial CHO\n",
        "cho_percent_simple <- linear_quad_models(adiposity = \"percent_fat\",\n",
        "                   outcome = \"post_cho\",\n",
        "                   baseline = \"cho_0\",\n",
        "                   simple_covars=T,\n",
        "                   ffm = F)\n",
        "\n",
        "summary(rer_percent_simple$mod$mod)\n",
        "summary(cho_percent_simple$mod$mod)"
      ],
      "metadata": {
        "id": "-7I1YaHYjK84",
        "colab": {
          "base_uri": "https://localhost:8080/",
          "height": 1000
        },
        "outputId": "2a6eeea1-609f-4142-9f70-ce9372f5b3a2"
      },
      "execution_count": 41,
      "outputs": [
        {
          "output_type": "stream",
          "name": "stderr",
          "text": [
            "refitting model(s) with ML (instead of REML)\n",
            "\n"
          ]
        },
        {
          "output_type": "stream",
          "name": "stdout",
          "text": [
            "[1] \"Quadratic model selected, p = 0.002\"\n",
            "[1] \"Significant interaction. Returning model for plotting\"\n"
          ]
        },
        {
          "output_type": "stream",
          "name": "stderr",
          "text": [
            "refitting model(s) with ML (instead of REML)\n",
            "\n"
          ]
        },
        {
          "output_type": "stream",
          "name": "stdout",
          "text": [
            "[1] \"Quadratic model selected, p = 0.002\"\n",
            "[1] \"Significant interaction. Returning model for plotting\"\n"
          ]
        },
        {
          "output_type": "display_data",
          "data": {
            "text/plain": [
              "Linear mixed model fit by REML. t-tests use Satterthwaite's method [\n",
              "lmerModLmerTest]\n",
              "Formula: quad_form\n",
              "   Data: analysis\n",
              "\n",
              "REML criterion at convergence: 209.4\n",
              "\n",
              "Scaled residuals: \n",
              "     Min       1Q   Median       3Q      Max \n",
              "-2.35942 -0.51520  0.02655  0.63650  2.41357 \n",
              "\n",
              "Random effects:\n",
              " Groups   Name        Variance Std.Dev.\n",
              " id       (Intercept) 0.3476   0.5896  \n",
              " Residual             0.2884   0.5370  \n",
              "Number of obs: 96, groups:  id, 24\n",
              "\n",
              "Fixed effects:\n",
              "                      Estimate Std. Error       df t value Pr(>|t|)    \n",
              "(Intercept)            0.29018    0.21422 23.51642   1.355 0.188410    \n",
              "I(time^2)             -0.19738    0.06932 68.00000  -2.847 0.005825 ** \n",
              "percent_fat            0.21310    0.21827 23.40440   0.976 0.338900    \n",
              "time                   0.33020    0.05520 68.00000   5.982 9.14e-08 ***\n",
              "rer_0                  0.73469    0.16125 19.00000   4.556 0.000216 ***\n",
              "sexM                  -0.39495    0.37524 19.00000  -1.053 0.305763    \n",
              "matsuda                0.36983    0.17376 19.00000   2.128 0.046616 *  \n",
              "I(time^2):percent_fat -0.16813    0.06986 68.00000  -2.407 0.018823 *  \n",
              "percent_fat:time       0.07423    0.05563 68.00000   1.334 0.186545    \n",
              "---\n",
              "Signif. codes:  0 ‘***’ 0.001 ‘**’ 0.01 ‘*’ 0.05 ‘.’ 0.1 ‘ ’ 1\n",
              "\n",
              "Correlation of Fixed Effects:\n",
              "            (Intr) I(t^2) prcnt_ time   rer_0  sexM   matsud I(^2):\n",
              "I(time^2)   -0.321                                                 \n",
              "percent_fat -0.275 -0.022                                          \n",
              "time         0.000  0.000  0.000                                   \n",
              "rer_0        0.330  0.000  0.057  0.000                            \n",
              "sexM        -0.714  0.000  0.477  0.000 -0.383                     \n",
              "matsuda      0.023  0.000  0.527  0.000  0.133  0.029              \n",
              "I(tm^2):pr_ -0.023  0.070 -0.317  0.000  0.000  0.000  0.000       \n",
              "prcnt_ft:tm  0.000  0.000  0.000  0.070  0.000  0.000  0.000  0.000"
            ]
          },
          "metadata": {}
        },
        {
          "output_type": "display_data",
          "data": {
            "text/plain": [
              "Linear mixed model fit by REML. t-tests use Satterthwaite's method [\n",
              "lmerModLmerTest]\n",
              "Formula: quad_form\n",
              "   Data: analysis\n",
              "\n",
              "REML criterion at convergence: 210.4\n",
              "\n",
              "Scaled residuals: \n",
              "    Min      1Q  Median      3Q     Max \n",
              "-1.9718 -0.4427 -0.1251  0.5616  2.9156 \n",
              "\n",
              "Random effects:\n",
              " Groups   Name        Variance Std.Dev.\n",
              " id       (Intercept) 0.2583   0.5082  \n",
              " Residual             0.3128   0.5593  \n",
              "Number of obs: 96, groups:  id, 24\n",
              "\n",
              "Fixed effects:\n",
              "                      Estimate Std. Error       df t value Pr(>|t|)    \n",
              "(Intercept)            0.12196    0.20944 24.23059   0.582 0.565728    \n",
              "I(time^2)             -0.20997    0.07220 68.00000  -2.908 0.004904 ** \n",
              "percent_fat            0.30908    0.19862 25.04163   1.556 0.132227    \n",
              "time                   0.25468    0.05749 68.00000   4.430 3.51e-05 ***\n",
              "cho_0                  0.70109    0.16752 19.00000   4.185 0.000502 ***\n",
              "sexM                   0.06232    0.37467 19.00000   0.166 0.869645    \n",
              "matsuda                0.47570    0.15548 19.00000   3.059 0.006452 ** \n",
              "I(time^2):percent_fat -0.16924    0.07276 68.00000  -2.326 0.023016 *  \n",
              "percent_fat:time       0.07808    0.05794 68.00000   1.348 0.182282    \n",
              "---\n",
              "Signif. codes:  0 ‘***’ 0.001 ‘**’ 0.01 ‘*’ 0.05 ‘.’ 0.1 ‘ ’ 1\n",
              "\n",
              "Correlation of Fixed Effects:\n",
              "            (Intr) I(t^2) prcnt_ time   cho_0  sexM   matsud I(^2):\n",
              "I(time^2)   -0.342                                                 \n",
              "percent_fat -0.275 -0.025                                          \n",
              "time         0.000  0.000  0.000                                   \n",
              "cho_0        0.471  0.000 -0.026  0.000                            \n",
              "sexM        -0.746  0.000  0.455  0.000 -0.560                     \n",
              "matsuda      0.041  0.000  0.508  0.000  0.129 -0.001              \n",
              "I(tm^2):pr_ -0.024  0.070 -0.363  0.000  0.000  0.000  0.000       \n",
              "prcnt_ft:tm  0.000  0.000  0.000  0.070  0.000  0.000  0.000  0.000"
            ]
          },
          "metadata": {}
        }
      ]
    },
    {
      "cell_type": "markdown",
      "metadata": {
        "id": "-v5yVwo8W5zc"
      },
      "source": [
        "## Table S1"
      ]
    },
    {
      "cell_type": "code",
      "execution_count": 42,
      "metadata": {
        "id": "WnR-RUKKWkOZ",
        "colab": {
          "base_uri": "https://localhost:8080/",
          "height": 871
        },
        "outputId": "a6334839-e3df-4856-bcf0-017a0b22942b"
      },
      "outputs": [
        {
          "output_type": "display_data",
          "data": {
            "text/plain": [
              "\n",
              "\n",
              "|                              |Overall                 |F                       |M                       |p      |test    |\n",
              "|:-----------------------------|:-----------------------|:-----------------------|:-----------------------|:------|:-------|\n",
              "|n                             |27                      |15                      |12                      |       |        |\n",
              "|sex (%)                       |12 (44.4)               |0 (0.0)                 |12 (100.0)              |<0.001 |        |\n",
              "|race_eth (%)                  |                        |                        |                        |0.902  |exact   |\n",
              "|Black                         |7 (25.9)                |4 (26.7)                |3 (25.0)                |       |        |\n",
              "|hsl                           |1 (3.7)                 |0 (0.0)                 |1 (8.3)                 |       |        |\n",
              "|other                         |1 (3.7)                 |1 (6.7)                 |0 (0.0)                 |       |        |\n",
              "|white                         |18 (66.7)               |10 (66.7)               |8 (66.7)                |       |        |\n",
              "|age_yrs (median [IQR])        |22.000 [19.000, 27.000] |22.000 [19.000, 24.000] |24.500 [21.250, 28.250] |0.138  |nonnorm |\n",
              "|ogtt_height_m (mean (SD))     |1.706 (0.092)           |1.638 (0.052)           |1.790 (0.052)           |<0.001 |        |\n",
              "|ogtt_weight_kg (median [IQR]) |73.000 [66.590, 89.980] |72.450 [63.520, 87.670] |76.795 [71.070, 99.955] |0.075  |nonnorm |\n",
              "|bmi (median [IQR])            |26.175 [24.078, 31.371] |26.217 [24.332, 32.019] |24.931 [23.197, 30.352] |0.486  |nonnorm |\n",
              "|fat_mass (mean (SD))          |24.233 (9.599)          |26.286 (8.573)          |21.666 (10.550)         |0.221  |        |\n",
              "|ffm (mean (SD))               |51.654 (10.872)         |45.189 (6.321)          |59.735 (10.016)         |<0.001 |        |\n",
              "|percent_fat (mean (SD))       |30.359 (8.681)          |34.860 (6.336)          |24.733 (8.054)          |0.001  |        |\n",
              "|vat_vol (median [IQR])        |22.390 [7.300, 50.810]  |11.670 [4.190, 37.530]  |29.960 [14.757, 67.105] |0.048  |nonnorm |\n",
              "|rer_0 (mean (SD))             |0.795 (0.055)           |0.777 (0.047)           |0.817 (0.058)           |0.056  |        |\n",
              "|cho_0 (mean (SD))             |0.102 (0.071)           |0.069 (0.043)           |0.143 (0.079)           |0.005  |        |\n",
              "|fat_0 (mean (SD))             |0.084 (0.024)           |0.084 (0.026)           |0.083 (0.023)           |0.910  |        |\n",
              "|vo2max_rel (mean (SD))        |34.130 (8.831)          |31.427 (7.330)          |37.508 (9.670)          |0.075  |        |\n",
              "|vo2max_abs (mean (SD))        |2.620 (0.597)           |2.263 (0.368)           |3.066 (0.527)           |<0.001 |        |\n",
              "|ree (mean (SD))               |1709.750 (287.887)      |1538.223 (222.263)      |1924.158 (206.765)      |<0.001 |        |"
            ]
          },
          "metadata": {}
        },
        {
          "output_type": "display_data",
          "data": {
            "text/plain": [
              "Plot with title “Histogram of s1_df$vat_vol”"
            ],
            "image/png": "[encoded data removed]"
          },
          "metadata": {
            "image/png": {
              "width": 420,
              "height": 420
            }
          }
        }
      ],
      "source": [
        "s1_df <- table_data %>%\n",
        "  select(id, sex, race_eth, age_yrs, ogtt_height_m, ogtt_weight_kg, bmi,\n",
        "  fat_mass, ffm, percent_fat, vat_vol_trfm, rer_0, cho_0, fat_0,\n",
        "  vo2max_rel, vo2max_abs) %>%\n",
        "    rename(vat_vol = vat_vol_trfm) %>%\n",
        "    left_join(., ree_data[,c(\"id\", \"ree\")], by = \"id\") %>%\n",
        "    select(-id) %>%\n",
        "    mutate(sex = case_when(\n",
        "    sex == 1 ~ \"F\",\n",
        "    sex == 0 ~ \"M\"\n",
        "    ))\n",
        "\n",
        "    hist(s1_df$vat_vol)\n",
        "\n",
        "table_s1 <- tableone::CreateTableOne(data = s1_df,\n",
        "                                 strata = \"sex\",\n",
        "                                 addOverall = T,\n",
        "                                 testNonNormal = wilcox.test,\n",
        "                                 testNormal = t.test,\n",
        "                                 includeNA = T)\n",
        "\n",
        "#adjust list of not normal variables to account for variable renaming\n",
        "not_norm_s1 <- c(\"vat_vol\", not_norm[2:length(not_norm)])\n",
        "\n",
        "table_s1 <- print(table_s1,\n",
        "              nonnormal = not_norm_s1,\n",
        "              contDigits = 3,\n",
        "              dropEqual = T,\n",
        "              printToggle = F,\n",
        "              exact = \"race_eth\",\n",
        "              #varLabels = T, #uses labels from var_label\n",
        "              #drop0trailing = T, #drops 0 after the decimal mark\n",
        "              noSpaces = T)\n",
        "\n",
        "knitr::kable(as.data.frame(table_s1))\n"
      ]
    },
    {
      "cell_type": "markdown",
      "metadata": {
        "id": "oIZH_kmPQ-7L"
      },
      "source": [
        "## Prep Table S2"
      ]
    },
    {
      "cell_type": "code",
      "execution_count": 43,
      "metadata": {
        "collapsed": true,
        "id": "p79HwqOADX2O",
        "colab": {
          "base_uri": "https://localhost:8080/",
          "height": 104
        },
        "outputId": "c6d61e74-180c-41c1-c2b3-036214b189d3"
      },
      "outputs": [
        {
          "output_type": "stream",
          "name": "stderr",
          "text": [
            "refitting model(s) with ML (instead of REML)\n",
            "\n"
          ]
        },
        {
          "output_type": "stream",
          "name": "stdout",
          "text": [
            "[1] \"Linear model selected, p = 0.237\"\n",
            "[1] \"No interaction. Returning reduced model\"\n"
          ]
        },
        {
          "output_type": "display_data",
          "data": {
            "text/html": [
              "0.294"
            ],
            "text/markdown": "0.294",
            "text/latex": "0.294",
            "text/plain": [
              "[1] 0.294"
            ]
          },
          "metadata": {}
        }
      ],
      "source": [
        "#effect of BF% on blood glucose\n",
        "gluc_mod <- linear_quad_models(adiposity = \"percent_fat\",\n",
        "                   outcome = \"post_gluc\",\n",
        "                   baseline = \"glucose_0\",\n",
        "                   ffm = F)\n",
        "\n",
        "round(gluc_mod$mod$pval_int, 3)\n",
        "\n",
        "#uncomment summary or parameters lines to see model results or CIs, respectively\n",
        "#summary(gluc_mod$mod$mod)\n",
        "#parameters::ci_satterthwaite(gluc_mod$mod$mod)"
      ]
    },
    {
      "cell_type": "code",
      "execution_count": 44,
      "metadata": {
        "id": "WPfwbay6OXXB",
        "colab": {
          "base_uri": "https://localhost:8080/",
          "height": 104
        },
        "outputId": "cc70a04d-60a9-4291-c986-97f889946c34"
      },
      "outputs": [
        {
          "output_type": "stream",
          "name": "stderr",
          "text": [
            "refitting model(s) with ML (instead of REML)\n",
            "\n"
          ]
        },
        {
          "output_type": "stream",
          "name": "stdout",
          "text": [
            "[1] \"Linear model selected, p = 0.545\"\n",
            "[1] \"No interaction. Returning reduced model\"\n"
          ]
        },
        {
          "output_type": "display_data",
          "data": {
            "text/html": [
              "0.178"
            ],
            "text/markdown": "0.178",
            "text/latex": "0.178",
            "text/plain": [
              "[1] 0.178"
            ]
          },
          "metadata": {}
        }
      ],
      "source": [
        "ins_mod <- linear_quad_models(adiposity = \"percent_fat\",\n",
        "                   outcome = \"post_ins\",\n",
        "                   baseline = \"insulin_0\",\n",
        "                   ffm = F)\n",
        "\n",
        "round(ins_mod$mod$pval_int, 3)\n",
        "\n",
        "#uncomment summary or parameters lines to see model results or CIs, respectively\n",
        "#summary(ins_mod$mod$mod)\n",
        "#parameters::ci_satterthwaite(ins_mod$mod$mod)\n"
      ]
    },
    {
      "cell_type": "code",
      "execution_count": 45,
      "metadata": {
        "id": "EeYn3UJWOWw3",
        "colab": {
          "base_uri": "https://localhost:8080/"
        },
        "outputId": "6e8888fa-bcb5-4cd1-bce1-db99bca53e9c"
      },
      "outputs": [
        {
          "output_type": "stream",
          "name": "stderr",
          "text": [
            "refitting model(s) with ML (instead of REML)\n",
            "\n"
          ]
        },
        {
          "output_type": "stream",
          "name": "stdout",
          "text": [
            "[1] \"Quadratic model selected, p = 0\"\n",
            "[1] \"Significant interaction. Returning model for plotting\"\n"
          ]
        }
      ],
      "source": [
        "nefa_mod <- linear_quad_models(adiposity = \"percent_fat\",\n",
        "                   outcome = \"post_nefa\",\n",
        "                   baseline = \"nefa_0\",\n",
        "                   ffm = F)\n",
        "\n",
        "#summary(nefa_mod$mod$mod)\n",
        "#parameters::ci_satterthwaite(nefa_mod$mod$mod)"
      ]
    },
    {
      "cell_type": "code",
      "execution_count": 46,
      "metadata": {
        "id": "W_xjoEupL6wa",
        "colab": {
          "base_uri": "https://localhost:8080/"
        },
        "outputId": "ed38f616-237d-425c-b9ed-480c59851011"
      },
      "outputs": [
        {
          "output_type": "stream",
          "name": "stderr",
          "text": [
            "refitting model(s) with ML (instead of REML)\n",
            "\n"
          ]
        },
        {
          "output_type": "stream",
          "name": "stdout",
          "text": [
            "[1] \"Quadratic model selected, p = 0\"\n",
            "[1] \"No interaction. Returning reduced model\"\n"
          ]
        }
      ],
      "source": [
        "lac_mod <- linear_quad_models(adiposity = \"percent_fat\",\n",
        "                   outcome = \"post_lac\",\n",
        "                   baseline = \"lactate_0\",\n",
        "                   ffm = F)\n",
        "\n",
        "#summary(lac_mod$mod$mod)\n",
        "#parameters::ci_satterthwaite(lac_mod$mod$mod)"
      ]
    },
    {
      "cell_type": "markdown",
      "metadata": {
        "id": "RAjOVZV9RC6B"
      },
      "source": [
        "## Table S2"
      ]
    },
    {
      "cell_type": "code",
      "execution_count": 47,
      "metadata": {
        "id": "qgL8a77xqZSB",
        "colab": {
          "base_uri": "https://localhost:8080/",
          "height": 781
        },
        "outputId": "fd3a26ff-2c6b-43e4-8893-0ca4137de0f1"
      },
      "outputs": [
        {
          "output_type": "display_data",
          "data": {
            "text/plain": [
              "Table for Effect of BF% on Glucose"
            ]
          },
          "metadata": {}
        },
        {
          "output_type": "display_data",
          "data": {
            "text/plain": [
              "\n",
              "\n",
              "|**Characteristic** |**Beta** |**95% CI**     |**p-value** |\n",
              "|:------------------|:--------|:--------------|:-----------|\n",
              "|Time               |-0.621   |-0.814, -0.427 |<0.001      |\n",
              "|BF%                |0.802    |-0.021, 1.63   |0.055       |\n",
              "|Fasting Measure    |0.231    |-0.140, 0.602  |0.206       |\n",
              "|Sex (Male)         |0.585    |-1.02, 2.19    |0.451       |\n",
              "|Age                |-0.098   |-0.563, 0.367  |0.660       |\n",
              "|Matsuda            |0.188    |-0.365, 0.741  |0.482       |\n",
              "|AdipIR (OGTT)      |0.137    |-0.393, 0.668  |0.591       |\n",
              "|VAT volume^(1/3)   |-0.014   |-0.790, 0.761  |0.969       |"
            ]
          },
          "metadata": {}
        },
        {
          "output_type": "display_data",
          "data": {
            "text/plain": [
              "\n",
              "Table for Effect of BF% on Insulin"
            ]
          },
          "metadata": {}
        },
        {
          "output_type": "display_data",
          "data": {
            "text/plain": [
              "\n",
              "\n",
              "|**Characteristic** |**Beta** |**95% CI**     |**p-value** |\n",
              "|:------------------|:--------|:--------------|:-----------|\n",
              "|Time               |-0.187   |-0.323, -0.050 |0.008       |\n",
              "|BF%                |0.232    |-0.285, 0.749  |0.355       |\n",
              "|Fasting Measure    |-0.244   |-0.859, 0.370  |0.412       |\n",
              "|Sex (Male)         |0.058    |-0.879, 0.995  |0.898       |\n",
              "|Age                |0.016    |-0.245, 0.278  |0.897       |\n",
              "|Matsuda            |-0.596   |-1.33, 0.140   |0.105       |\n",
              "|AdipIR (OGTT)      |0.438    |0.142, 0.735   |0.006       |\n",
              "|VAT volume^(1/3)   |0.056    |-0.378, 0.489  |0.789       |"
            ]
          },
          "metadata": {}
        },
        {
          "output_type": "display_data",
          "data": {
            "text/plain": [
              "\n",
              "Table for Effect of BF% on NEFAs"
            ]
          },
          "metadata": {}
        },
        {
          "output_type": "display_data",
          "data": {
            "text/plain": [
              "\n",
              "\n",
              "|**Characteristic** |**Beta** |**95% CI**     |**p-value** |\n",
              "|:------------------|:--------|:--------------|:-----------|\n",
              "|Time^2             |0.334    |0.177, 0.492   |<0.001      |\n",
              "|BF%                |0.310    |-0.345, 0.966  |0.333       |\n",
              "|Time               |-0.955   |-1.08, -0.830  |<0.001      |\n",
              "|Fasting Measure    |0.210    |-0.142, 0.563  |0.224       |\n",
              "|Sex (Male)         |1.33     |0.099, 2.57    |0.036       |\n",
              "|Age                |0.198    |-0.149, 0.544  |0.244       |\n",
              "|Matsuda            |0.080    |-0.330, 0.491  |0.683       |\n",
              "|AdipIR (OGTT)      |0.797    |0.359, 1.24    |0.001       |\n",
              "|VAT volume^(1/3)   |-0.466   |-1.06, 0.128   |0.116       |\n",
              "|Time^2 * BF%       |0.080    |-0.077, 0.238  |0.313       |\n",
              "|BF% * Time         |-0.273   |-0.399, -0.147 |<0.001      |"
            ]
          },
          "metadata": {}
        }
      ],
      "source": [
        "#Supplemental Table 2\n",
        "tbl_gluc <- gtsummary::tbl_regression(gluc_mod$mod$mod,\n",
        "                                      show_single_row = \"sex\",\n",
        "                                      # pvalue_fun = purrr::partial(style_pvalue, digits = 3),\n",
        "                                      tidy_fun = custom_ci,\n",
        "                                      label = list('glucose_0' ~ \"Fasting Measure\")) %>%\n",
        "  modify_table_body(~.x %>%\n",
        "                    mutate(variable = case_when(\n",
        "                      grepl(\"_0\", variable) ~ \"fasting\",\n",
        "                      !grepl(\"_0\", variable) ~ variable,\n",
        "                    )))\n",
        "\n",
        "tbl_insulin <- gtsummary::tbl_regression(ins_mod$mod$mod,\n",
        "                                      show_single_row = \"sex\",\n",
        "                                      tidy_fun = custom_ci,\n",
        "                                      label = list('insulin_0' ~ \"Fasting Measure\")) %>%\n",
        "    modify_table_body(~.x %>%\n",
        "                      mutate(variable = case_when(\n",
        "                        grepl(\"_0\", variable) ~ \"fasting\",\n",
        "                        !grepl(\"_0\", variable) ~ variable,\n",
        "                      )))\n",
        "\n",
        "tbl_nefa <- gtsummary::tbl_regression(nefa_mod$mod$mod,\n",
        "                                      tidy_fun = custom_ci,\n",
        "                                      label = list('I(time^2)' ~ \"Time^2\",\n",
        "                                                   \"nefa_0\" ~ \"Fasting Measure\"),\n",
        "                                      show_single_row = \"sex\") %>%\n",
        "  modify_table_body(~.x %>%\n",
        "                      mutate(variable = case_when(\n",
        "                        grepl(\"_0\", variable) ~ \"fasting\",\n",
        "                        !grepl(\"_0\", variable) ~ variable,\n",
        "                      )))\n",
        "\n",
        "tbl_lac <- gtsummary::tbl_regression(lac_mod$mod$mod,\n",
        "                                      tidy_fun = custom_ci,\n",
        "                                      label = list('I(time^2)' ~ \"Time^2\",\n",
        "                                                   \"lactate_0\" ~ \"Fasting Measure\"),\n",
        "                                      show_single_row = \"sex\") %>%\n",
        "  modify_table_body(~.x %>%\n",
        "                      mutate(variable = case_when(\n",
        "                        grepl(\"_0\", variable) ~ \"fasting\",\n",
        "                        !grepl(\"_0\", variable) ~ variable,\n",
        "                      )))\n",
        "\n",
        "footnote_sd <- paste0(\"A 1-SD increase in each variable corresponds to \",\n",
        "                            \"a 1-SD increase glucose (\",\n",
        "                            round(post_sd$post_gluc, 1), \"), insulin (\",\n",
        "                            post_sd$post_ins,\n",
        "                            \"), NEFA (\", post_sd$post_nefa,\n",
        "                            \"), or lactate (\",\n",
        "                            round(post_sd$post_lac, 2),\n",
        "                            \").\\nInsulin and NEFA were transformed via natural log for normality.\",\n",
        "                            \"\\nVariable SDs: BF%: \", round(covar_sd$percent_fat, 1),\n",
        "                            \"; time: \", round(covar_sd$time, 1),\n",
        "                           \"; Fasting glucose: \", round(covar_sd$glucose_0, 1),\n",
        "                           \"; Fasting insulin: \", round(covar_sd$insulin_0, 1),\n",
        "                           \"; Fasting NEFA: \", round(covar_sd$nefa_0, 1),\n",
        "                           \"; Fasting lactate: \", round(covar_sd$lactate_0, 1),\";\",\n",
        "                           \"\\nAge: \", round(covar_sd$age_yrs, 2),\n",
        "                           \"; Matsuda: \", round(covar_sd$matsuda, 1),\n",
        "                           \"; AdipIR(OGTT): \", round(covar_sd$adip_ir_ogtt, 1),\n",
        "                           \"; VAT vol: \", round(covar_sd$vat_vol_trfm, 2),\n",
        "                           \"; Fat-free mass: \", round(covar_sd$ffm, 1))\n",
        "\n",
        "#print resuls\n",
        "IRdisplay::display_text(\"Table for Effect of BF% on Glucose\")\n",
        "knitr::kable(tbl_gluc)\n",
        "\n",
        "IRdisplay::display_text(\"\\nTable for Effect of BF% on Insulin\")\n",
        "knitr::kable(tbl_insulin)\n",
        "\n",
        "IRdisplay::display_text(\"\\nTable for Effect of BF% on NEFAs\")\n",
        "knitr::kable(tbl_nefa)\n",
        "\n",
        "#table is split up by outcome for easier viewing"
      ]
    },
    {
      "cell_type": "code",
      "execution_count": 48,
      "metadata": {
        "id": "2HYjQ3z002LP",
        "colab": {
          "base_uri": "https://localhost:8080/",
          "height": 437
        },
        "outputId": "b0cecc8e-6c73-4eff-917e-270df053c07f"
      },
      "outputs": [
        {
          "output_type": "display_data",
          "data": {
            "text/plain": [
              "plot without title"
            ],
            "image/png": "[encoded data removed]"
          },
          "metadata": {
            "image/png": {
              "width": 420,
              "height": 420
            }
          }
        }
      ],
      "source": [
        "#Figure for NEFA BF% mod\n",
        "gr <- ref_grid(nefa_mod$mod$mod, cov.keep= c('time', 'percent_fat'),\n",
        "               at = list(percent_fat = c(-1, 0, 1)),\n",
        "               nesting = NULL)\n",
        "\n",
        "emm <- emmeans(gr, spec= c('percent_fat', 'time'), level= 0.95)\n",
        "\n",
        "emm_mod <- data.frame(summary(emm)) %>%\n",
        "  select(-df, -SE) %>%\n",
        "  mutate(across(c(percent_fat, time), ~ (. * ref_sd[cur_column()]) +\n",
        "           ref_means[cur_column()]),\n",
        "         # time = time * 30,\n",
        "         percent_fat = format(round(percent_fat, 1), 1)) %>%\n",
        "  mutate(across(c(emmean, lower.CL, upper.CL), ~ (. * ref_sd[c(\"post_nefa\")]) +\n",
        "           ref_means[c(\"post_nefa\")]),\n",
        "         across(c(emmean, lower.CL, upper.CL), ~ (exp(.))))\n",
        "\n",
        "#make NEFA model\n",
        "pmod_nefa <- ggplot(emm_mod,\n",
        "       aes(y=emmean, x = time, shape = percent_fat)) +\n",
        "  geom_errorbar(\n",
        "    # aes(ymin= lower.CL, ymax= emmean, group = percent_fat),\n",
        "    aes(ymin= lower.CL, ymax= upper.CL, group = percent_fat),\n",
        "    alpha = 0.5, show.legend = F, width = 5, linewidth = 1,\n",
        "    position = position_dodge(width = 2, preserve = \"single\")\n",
        "    # position = position_nudge(x = 1, y = 0)\n",
        "  ) +\n",
        "  geom_line(linewidth = 1.5) +\n",
        "  geom_point(size = 6) +\n",
        "  scale_color_manual(values = my_colors, name = NULL) +\n",
        "  scale_x_continuous(breaks = seq(0,120,30)) +\n",
        "  labs(x = \"Time (min)\", y = \"Postprandial NEFA\") +\n",
        "  scale_y_continuous(limits = c(0, 0.6),\n",
        "                     breaks = seq(0, 0.6, 0.1)) +\n",
        "  scale_shape_manual(name = \"BF%\",\n",
        "                     #guide = \"none\",\n",
        "               values = c(15,16,17)) +\n",
        "  ggprism::theme_prism(base_size = 18) +\n",
        "    theme(text=element_text(family=\"Times New Roman\"))\n",
        "\n",
        "  pmod_nefa"
      ]
    },
    {
      "cell_type": "markdown",
      "metadata": {
        "id": "J0jLruIAQqI-"
      },
      "source": [
        "## Table S3"
      ]
    },
    {
      "cell_type": "code",
      "execution_count": 49,
      "metadata": {
        "id": "qksBBNeZQo4n",
        "colab": {
          "base_uri": "https://localhost:8080/",
          "height": 295
        },
        "outputId": "56e2a79f-f967-4d1f-e2f3-9e0784f980f5"
      },
      "outputs": [
        {
          "output_type": "stream",
          "name": "stderr",
          "text": [
            "refitting model(s) with ML (instead of REML)\n",
            "\n"
          ]
        },
        {
          "output_type": "stream",
          "name": "stdout",
          "text": [
            "[1] \"Linear model selected, p = 0.109\"\n",
            "[1] \"No interaction. Returning reduced model\"\n"
          ]
        },
        {
          "output_type": "display_data",
          "data": {
            "text/plain": [
              "\n",
              "\n",
              "|**Characteristic** |**Beta** |**95% CI**     |**p-value** |\n",
              "|:------------------|:--------|:--------------|:-----------|\n",
              "|Time               |-0.303   |-0.401, -0.206 |<0.001      |\n",
              "|BF%                |-0.334   |-0.869, 0.200  |0.203       |\n",
              "|Fasting Measure    |0.689    |0.410, 0.968   |<0.001      |\n",
              "|Sex (Male)         |-0.400   |-1.45, 0.651   |0.431       |\n",
              "|Age                |0.135    |-0.178, 0.449  |0.374       |\n",
              "|Matsuda            |-0.394   |-0.769, -0.019 |0.041       |\n",
              "|AdipIR (OGTT)      |-0.217   |-0.564, 0.130  |0.204       |\n",
              "|VAT volume^(1/3)   |0.457    |-0.056, 0.971  |0.077       |"
            ]
          },
          "metadata": {}
        }
      ],
      "source": [
        "#effect of body composition on lipid oxidation\n",
        "lip_percent <- linear_quad_models(adiposity = \"percent_fat\",\n",
        "                   outcome = \"post_fat\",\n",
        "                   baseline = \"fat_0\",\n",
        "                   ffm = F)\n",
        "\n",
        "gtsummary::tbl_regression(lip_percent$mod$mod,\n",
        "                                      tidy_fun = custom_ci,\n",
        "                                      show_single_row = \"sex\",\n",
        "                                     label = list('fat_0' ~ \"Fasting Measure\")) %>%\n",
        "  modify_table_body(~.x %>%\n",
        "                      mutate(variable = case_when(\n",
        "                        grepl(\"_0\", variable) ~ \"fasting\",\n",
        "                        !grepl(\"_0\", variable) ~ variable,\n",
        "                      ))) %>%\n",
        "                        knitr::kable(.)"
      ]
    },
    {
      "cell_type": "markdown",
      "metadata": {
        "id": "a_NUrO6RPzZL"
      },
      "source": [
        "## Prep Table S4"
      ]
    },
    {
      "cell_type": "code",
      "execution_count": 50,
      "metadata": {
        "id": "sfMppbfcPy6-",
        "colab": {
          "base_uri": "https://localhost:8080/",
          "height": 295
        },
        "outputId": "2023b46e-1f26-425f-8ed0-fc59589b3641"
      },
      "outputs": [
        {
          "output_type": "stream",
          "name": "stderr",
          "text": [
            "refitting model(s) with ML (instead of REML)\n",
            "\n"
          ]
        },
        {
          "output_type": "stream",
          "name": "stdout",
          "text": [
            "[1] \"Quadratic model selected, p = 0.026\"\n",
            "[1] \"No interaction. Returning reduced model\"\n"
          ]
        },
        {
          "output_type": "display_data",
          "data": {
            "text/html": [
              "<style>\n",
              ".list-inline {list-style: none; margin:0; padding: 0}\n",
              ".list-inline>li {display: inline-block}\n",
              ".list-inline>li:not(:last-child)::after {content: \"\\00b7\"; padding: 0 .5ex}\n",
              "</style>\n",
              "<ol class=list-inline><li>0.409</li><li>0.592</li></ol>\n"
            ],
            "text/markdown": "1. 0.409\n2. 0.592\n\n\n",
            "text/latex": "\\begin{enumerate*}\n\\item 0.409\n\\item 0.592\n\\end{enumerate*}\n",
            "text/plain": [
              "[1] 0.409 0.592"
            ]
          },
          "metadata": {}
        },
        {
          "output_type": "stream",
          "name": "stderr",
          "text": [
            "refitting model(s) with ML (instead of REML)\n",
            "\n"
          ]
        },
        {
          "output_type": "stream",
          "name": "stdout",
          "text": [
            "[1] \"Quadratic model selected, p = 0.016\"\n",
            "[1] \"No interaction. Returning reduced model\"\n"
          ]
        },
        {
          "output_type": "display_data",
          "data": {
            "text/html": [
              "<style>\n",
              ".list-inline {list-style: none; margin:0; padding: 0}\n",
              ".list-inline>li {display: inline-block}\n",
              ".list-inline>li:not(:last-child)::after {content: \"\\00b7\"; padding: 0 .5ex}\n",
              "</style>\n",
              "<ol class=list-inline><li>0.264</li><li>0.383</li></ol>\n"
            ],
            "text/markdown": "1. 0.264\n2. 0.383\n\n\n",
            "text/latex": "\\begin{enumerate*}\n\\item 0.264\n\\item 0.383\n\\end{enumerate*}\n",
            "text/plain": [
              "[1] 0.264 0.383"
            ]
          },
          "metadata": {}
        },
        {
          "output_type": "stream",
          "name": "stderr",
          "text": [
            "refitting model(s) with ML (instead of REML)\n",
            "\n"
          ]
        },
        {
          "output_type": "stream",
          "name": "stdout",
          "text": [
            "[1] \"Quadratic model selected, p = 0.016\"\n",
            "[1] \"No interaction. Returning reduced model\"\n"
          ]
        },
        {
          "output_type": "stream",
          "name": "stderr",
          "text": [
            "refitting model(s) with ML (instead of REML)\n",
            "\n"
          ]
        }
      ],
      "source": [
        "#Effect of fat mass on postprandial RER\n",
        "rer_mass <- linear_quad_models(adiposity = \"fat_mass\",\n",
        "                   outcome = \"post_rer\",\n",
        "                   baseline = \"rer_0\", ffm = F)\n",
        "\n",
        "#p-values for BF% x time^2 and BF% x time interactions\n",
        "round(rer_mass$mod$pval_int, 3)\n",
        "\n",
        "#effect of fat mass on postprandial CHO\n",
        "cho_mass <- linear_quad_models(adiposity = \"fat_mass\",\n",
        "                   outcome = \"post_cho\",\n",
        "                   baseline = \"cho_0\", ffm = F)\n",
        "\n",
        "#p-values for BF% x time^2 and BF% x time interactions\n",
        "round(cho_mass$mod$pval_int, 3)\n",
        "\n",
        "#effect of fat mass on postprandial CHO while accounting for FFM\n",
        "norm_cho_mass <- linear_quad_models(adiposity = \"fat_mass\",\n",
        "                   outcome = \"post_cho\",\n",
        "                   baseline = \"cho_0\", ffm = T)\n",
        "\n",
        "\n",
        "#compare final models with and without FFM\n",
        "comp_norm_cho <- anova(cho_mass$mod$mod, norm_cho_mass$mod$mod) %>%\n",
        "  data.frame() %>%\n",
        "  rename(p_val = `Pr..Chisq.`) %>%\n",
        "  format_chisq_res()\n"
      ]
    },
    {
      "cell_type": "markdown",
      "metadata": {
        "id": "TNhD6jhYQ0qy"
      },
      "source": [
        "## Table S4"
      ]
    },
    {
      "cell_type": "code",
      "execution_count": 51,
      "metadata": {
        "id": "_Q8DIeBnQTcF",
        "colab": {
          "base_uri": "https://localhost:8080/",
          "height": 277
        },
        "outputId": "4d408a35-2f8c-4a96-8ff6-286d53ec736b"
      },
      "outputs": [
        {
          "output_type": "display_data",
          "data": {
            "text/plain": [
              "Columns are Effect of Fat Mass on RER, CHO, and CHO w/FFM"
            ]
          },
          "metadata": {}
        },
        {
          "output_type": "display_data",
          "data": {
            "text/plain": [
              "\n",
              "\n",
              "|**Characteristic** |**Beta** |**95% CI**     |**p-value** |**Beta** |**95% CI**     |**p-value** |**Beta** |**95% CI**     |**p-value** |\n",
              "|:------------------|:--------|:--------------|:-----------|:--------|:--------------|:-----------|:--------|:--------------|:-----------|\n",
              "|Time^2             |-0.186   |-0.329, -0.042 |0.012       |-0.198   |-0.347, -0.049 |0.010       |-0.198   |-0.347, -0.049 |0.010       |\n",
              "|Time               |0.325    |0.211, 0.439   |<0.001      |0.249    |0.131, 0.368   |<0.001      |0.249    |0.131, 0.368   |<0.001      |\n",
              "|Fat Mass           |0.367    |-0.303, 1.04   |0.263       |0.361    |-0.298, 1.02   |0.263       |0.362    |-0.323, 1.05   |0.277       |\n",
              "|Fasting Measure    |0.761    |0.415, 1.11    |<0.001      |0.732    |0.321, 1.14    |0.002       |0.721    |0.254, 1.19    |0.005       |\n",
              "|Sex (Male)         |0.194    |-0.829, 1.22   |0.693       |0.309    |-0.744, 1.36   |0.542       |0.283    |-0.894, 1.46   |0.616       |\n",
              "|Age                |-0.148   |-0.485, 0.189  |0.365       |-0.107   |-0.442, 0.228  |0.506       |-0.116   |-0.492, 0.260  |0.520       |\n",
              "|Matsuda            |0.449    |0.051, 0.847   |0.030       |0.544    |0.152, 0.936   |0.010       |0.541    |0.131, 0.951   |0.013       |\n",
              "|AdipIR (OGTT)      |0.145    |-0.235, 0.525  |0.430       |0.074    |-0.304, 0.453  |0.683       |0.066    |-0.347, 0.480  |0.737       |\n",
              "|VAT volume^(1/3)   |-0.468   |-1.10, 0.163   |0.135       |-0.268   |-0.882, 0.345  |0.367       |-0.271   |-0.910, 0.367  |0.379       |\n",
              "|Fat-free Mass      |NA       |NA             |NA          |NA       |NA             |NA          |0.033    |-0.503, 0.568  |0.899       |"
            ]
          },
          "metadata": {}
        }
      ],
      "source": [
        "#table for fat mass on RER\n",
        "tbl_rer2 <- gtsummary::tbl_regression(rer_mass$mod$mod,\n",
        "                                      tidy_fun = custom_ci,\n",
        "                                      label = list('I(time^2)' ~ \"Time^2\"),\n",
        "                                      show_single_row = \"sex\") %>%\n",
        "  modify_table_body(~.x %>%\n",
        "                      mutate(label = var_label,\n",
        "                             variable = case_when(\n",
        "                        grepl(\"_0\", variable) ~ \"fasting\",\n",
        "                        !grepl(\"_0\", variable) ~ variable,\n",
        "                      )) %>%\n",
        "                      arrange(desc(str_detect(label, \"Time\"))))\n",
        "\n",
        "#table for fat mass on CHO\n",
        "tbl_cho2 <- gtsummary::tbl_regression(cho_mass$mod$mod,\n",
        "                                      tidy_fun = custom_ci,\n",
        "                                      label = list('I(time^2)' ~ \"Time^2\"),\n",
        "                                      show_single_row = \"sex\") %>%\n",
        "  modify_table_body(~.x %>%\n",
        "                      mutate(label = var_label,\n",
        "                             variable = case_when(\n",
        "                        grepl(\"_0\", variable) ~ \"fasting\",\n",
        "                        !grepl(\"_0\", variable) ~ variable,\n",
        "                      )) %>%\n",
        "                      arrange(desc(str_detect(label, \"Time\"))))\n",
        "\n",
        "#table for fat mass on CHO with FFM\n",
        "tbl_cho2b <- gtsummary::tbl_regression(norm_cho_mass$mod$mod,\n",
        "                                       tidy_fun = custom_ci,\n",
        "                                      label = list('I(time^2)' ~ \"Time^2\"),\n",
        "                                      show_single_row = \"sex\") %>%\n",
        "  modify_table_body(~.x %>%\n",
        "                      mutate(label = var_label,\n",
        "                             variable = case_when(\n",
        "                        grepl(\"_0\", variable) ~ \"fasting\",\n",
        "                        !grepl(\"_0\", variable) ~ variable,\n",
        "                      )) %>%\n",
        "                      arrange(desc(str_detect(label, \"Time\"))))\n",
        "\n",
        "#create big table of fat mass models\n",
        "table_s4 <- gtsummary::tbl_merge(tbls = list(tbl_rer2, tbl_cho2, tbl_cho2b),\n",
        "                                    tab_spanner = c(\"RER\", \"CHO\", \"CHO with FFM\")) %>%\n",
        "  modify_table_body(~.x %>%\n",
        "                      arrange(desc(str_detect(label, \"Time\")),\n",
        "                              desc(str_detect(label, \"Fat Mass\")),\n",
        "                              desc(str_detect(label, \"Fasting\"))))\n",
        "\n",
        "\n",
        "IRdisplay::display_text(\"Columns are Effect of Fat Mass on RER, CHO, and CHO w/FFM\")\n",
        "knitr::kable(table_s4)"
      ]
    }
  ],
  "metadata": {
    "colab": {
      "provenance": [],
      "authorship_tag": "ABX9TyM7Zegr+UrpA5RRuLmd1N4l",
      "include_colab_link": true
    },
    "kernelspec": {
      "display_name": "R",
      "name": "ir"
    },
    "language_info": {
      "name": "R"
    }
  },
  "nbformat": 4,
  "nbformat_minor": 0
}